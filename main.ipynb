{
 "cells": [
  {
   "cell_type": "markdown",
   "metadata": {},
   "source": [
    "# Schneider Electrick Hackaton - Data Science\n",
    "## Team 4 - Gerard Jover Pujol - Pol Gràcia Espelt"
   ]
  },
  {
   "cell_type": "markdown",
   "metadata": {},
   "source": [
    "### Modules import"
   ]
  },
  {
   "cell_type": "code",
   "execution_count": 162,
   "metadata": {},
   "outputs": [],
   "source": [
    "import os\n",
    "import sklearn as sk\n",
    "import pandas as pd\n",
    "import numpy as np \n",
    "import requests as r\n",
    "import pandas_profiling"
   ]
  },
  {
   "cell_type": "markdown",
   "metadata": {},
   "source": [
    "### Data load"
   ]
  },
  {
   "cell_type": "code",
   "execution_count": 163,
   "metadata": {},
   "outputs": [],
   "source": [
    "train_data_dir_csv = ['Data/CSV/' + x for x in os.listdir('Data/CSV') if 'train' in x]\n",
    "test_data_dir_csv = ['Data/CSV/' + x for x in os.listdir('Data/CSV') if 'test' in x][0]\n",
    "train_data_dir_pdf = ['Data/pdf/' + x for  x in os.listdir('Data/pdf')]\n",
    "train_data_api = 'Data/json/links.txt'"
   ]
  },
  {
   "cell_type": "markdown",
   "metadata": {},
   "source": [
    "#### CSV"
   ]
  },
  {
   "cell_type": "code",
   "execution_count": 218,
   "metadata": {},
   "outputs": [],
   "source": [
    "train_csv = pd.concat([pd.read_csv(train_data_dir_csv[0]), pd.read_csv(train_data_dir_csv[1], sep = ';')])"
   ]
  },
  {
   "cell_type": "code",
   "execution_count": 219,
   "metadata": {},
   "outputs": [
    {
     "data": {
      "text/plain": [
       "countryName                     37127\n",
       "eprtrSectorName                 37127\n",
       "EPRTRAnnexIMainActivityLabel    37127\n",
       "FacilityInspireID               37127\n",
       "facilityName                    37127\n",
       "City                            37127\n",
       "targetRelease                   37127\n",
       "pollutant                       37127\n",
       "reportingYear                   37127\n",
       "MONTH                           37127\n",
       "DAY                             37127\n",
       "CONTINENT                       37127\n",
       "max_wind_speed                  37127\n",
       "avg_wind_speed                  37127\n",
       "min_wind_speed                  37127\n",
       "max_temp                        37127\n",
       "avg_temp                        37127\n",
       "min_temp                        37127\n",
       "DAY WITH FOGS                   37127\n",
       "REPORTER NAME                   37127\n",
       "CITY ID                         37127\n",
       "dtype: int64"
      ]
     },
     "execution_count": 219,
     "metadata": {},
     "output_type": "execute_result"
    }
   ],
   "source": [
    "train_csv.count()"
   ]
  },
  {
   "cell_type": "code",
   "execution_count": 214,
   "metadata": {},
   "outputs": [
    {
     "data": {
      "text/html": [
       "<div>\n",
       "<style scoped>\n",
       "    .dataframe tbody tr th:only-of-type {\n",
       "        vertical-align: middle;\n",
       "    }\n",
       "\n",
       "    .dataframe tbody tr th {\n",
       "        vertical-align: top;\n",
       "    }\n",
       "\n",
       "    .dataframe thead th {\n",
       "        text-align: right;\n",
       "    }\n",
       "</style>\n",
       "<table border=\"1\" class=\"dataframe\">\n",
       "  <thead>\n",
       "    <tr style=\"text-align: right;\">\n",
       "      <th></th>\n",
       "      <th>countryName</th>\n",
       "      <th>eprtrSectorName</th>\n",
       "      <th>EPRTRAnnexIMainActivityLabel</th>\n",
       "      <th>FacilityInspireID</th>\n",
       "      <th>facilityName</th>\n",
       "      <th>City</th>\n",
       "      <th>targetRelease</th>\n",
       "      <th>pollutant</th>\n",
       "      <th>reportingYear</th>\n",
       "      <th>MONTH</th>\n",
       "      <th>...</th>\n",
       "      <th>CONTINENT</th>\n",
       "      <th>max_wind_speed</th>\n",
       "      <th>avg_wind_speed</th>\n",
       "      <th>min_wind_speed</th>\n",
       "      <th>max_temp</th>\n",
       "      <th>avg_temp</th>\n",
       "      <th>min_temp</th>\n",
       "      <th>DAY WITH FOGS</th>\n",
       "      <th>REPORTER NAME</th>\n",
       "      <th>CITY ID</th>\n",
       "    </tr>\n",
       "  </thead>\n",
       "  <tbody>\n",
       "    <tr>\n",
       "      <th>3874</th>\n",
       "      <td>United Kingdom</td>\n",
       "      <td>Energy sector</td>\n",
       "      <td>Thermal power stations and other combustion in...</td>\n",
       "      <td>UK.SEPA/200000061.Facility</td>\n",
       "      <td>Fife Ethylene Plant</td>\n",
       "      <td>Cowdenbeath</td>\n",
       "      <td>AIR</td>\n",
       "      <td>Nitrogen oxides (NOX)</td>\n",
       "      <td>2019</td>\n",
       "      <td>12</td>\n",
       "      <td>...</td>\n",
       "      <td>EUROPE</td>\n",
       "      <td>15.141264</td>\n",
       "      <td>18.269775</td>\n",
       "      <td>20.029105</td>\n",
       "      <td>8.923795</td>\n",
       "      <td>11.725372</td>\n",
       "      <td>15.124218</td>\n",
       "      <td>9</td>\n",
       "      <td>Bruce Farrell</td>\n",
       "      <td>3c563ab0d76fc84128574b5da82f769a</td>\n",
       "    </tr>\n",
       "  </tbody>\n",
       "</table>\n",
       "<p>1 rows × 21 columns</p>\n",
       "</div>"
      ],
      "text/plain": [
       "         countryName eprtrSectorName  \\\n",
       "3874  United Kingdom   Energy sector   \n",
       "\n",
       "                           EPRTRAnnexIMainActivityLabel  \\\n",
       "3874  Thermal power stations and other combustion in...   \n",
       "\n",
       "               FacilityInspireID         facilityName         City  \\\n",
       "3874  UK.SEPA/200000061.Facility  Fife Ethylene Plant  Cowdenbeath   \n",
       "\n",
       "     targetRelease              pollutant  reportingYear  MONTH  ...  \\\n",
       "3874           AIR  Nitrogen oxides (NOX)           2019     12  ...   \n",
       "\n",
       "      CONTINENT max_wind_speed  avg_wind_speed  min_wind_speed  max_temp  \\\n",
       "3874     EUROPE      15.141264       18.269775       20.029105  8.923795   \n",
       "\n",
       "       avg_temp   min_temp  DAY WITH FOGS  REPORTER NAME  \\\n",
       "3874  11.725372  15.124218              9  Bruce Farrell   \n",
       "\n",
       "                               CITY ID  \n",
       "3874  3c563ab0d76fc84128574b5da82f769a  \n",
       "\n",
       "[1 rows x 21 columns]"
      ]
     },
     "execution_count": 214,
     "metadata": {},
     "output_type": "execute_result"
    }
   ],
   "source": [
    "train_csv[train_csv['facilityName'] == 'Fife Ethylene Plant']"
   ]
  },
  {
   "cell_type": "markdown",
   "metadata": {},
   "source": [
    "### api"
   ]
  },
  {
   "cell_type": "code",
   "execution_count": 217,
   "metadata": {},
   "outputs": [],
   "source": [
    "with open(train_data_api) as file:\n",
    "    links = [link.strip() for link in file]\n",
    "\n",
    "int_cols = ['MONTH','reportingYear', 'DAY', 'max_wind_speed', 'avg_wind_speed', 'min_wind_speed', 'max_temp', 'min_temp', 'avg_temp', 'DAY WITH FOGS']\n",
    "json_df = pd.DataFrame()\n",
    "for link in links:\n",
    "    data_json = r.get(link).json()\n",
    "    tmp_df = pd.json_normalize(data_json)\n",
    "    #set index\n",
    "    tmp_df.set_index(tmp_df[''], inplace = True)\n",
    "    tmp_df.drop('', axis = 1, inplace=True)\n",
    "    #values to int\n",
    "    tmp_df[int_cols] = tmp_df[int_cols].apply(pd.to_numeric)\n",
    "    #print(tmp_df.columns)\n",
    "    #concat\n",
    "    json_df = pd.concat([json_df, tmp_df])\n",
    "    #train_csv = pd.concat([train_csv, tmp_df])"
   ]
  },
  {
   "cell_type": "code",
   "execution_count": 224,
   "metadata": {},
   "outputs": [],
   "source": [
    "c = 0\n",
    "l = list(json_df['facilityName'])\n",
    "for x in train_csv.facilityName:\n",
    "    if x not in l:\n",
    "        c+=1\n"
   ]
  },
  {
   "cell_type": "code",
   "execution_count": 228,
   "metadata": {},
   "outputs": [
    {
     "data": {
      "text/plain": [
       "1239"
      ]
     },
     "execution_count": 228,
     "metadata": {},
     "output_type": "execute_result"
    }
   ],
   "source": [
    "len(set(train_csv['facilityName'].unique()) - set(json_df['facilityName'].unique()))"
   ]
  },
  {
   "cell_type": "code",
   "execution_count": 229,
   "metadata": {},
   "outputs": [
    {
     "data": {
      "text/plain": [
       "6704"
      ]
     },
     "execution_count": 229,
     "metadata": {},
     "output_type": "execute_result"
    }
   ],
   "source": [
    "len(train_csv['facilityName'].unique())"
   ]
  },
  {
   "cell_type": "code",
   "execution_count": 226,
   "metadata": {},
   "outputs": [
    {
     "data": {
      "text/plain": [
       "6691"
      ]
     },
     "execution_count": 226,
     "metadata": {},
     "output_type": "execute_result"
    }
   ],
   "source": [
    "len(json_df['facilityName'].unique())"
   ]
  },
  {
   "cell_type": "code",
   "execution_count": 242,
   "metadata": {},
   "outputs": [
    {
     "data": {
      "text/html": [
       "<div>\n",
       "<style scoped>\n",
       "    .dataframe tbody tr th:only-of-type {\n",
       "        vertical-align: middle;\n",
       "    }\n",
       "\n",
       "    .dataframe tbody tr th {\n",
       "        vertical-align: top;\n",
       "    }\n",
       "\n",
       "    .dataframe thead th {\n",
       "        text-align: right;\n",
       "    }\n",
       "</style>\n",
       "<table border=\"1\" class=\"dataframe\">\n",
       "  <thead>\n",
       "    <tr style=\"text-align: right;\">\n",
       "      <th></th>\n",
       "      <th>eprtrSectorName</th>\n",
       "      <th>EPRTRSectorCode</th>\n",
       "      <th>0</th>\n",
       "    </tr>\n",
       "  </thead>\n",
       "  <tbody>\n",
       "    <tr>\n",
       "      <th>0</th>\n",
       "      <td>Energy sector</td>\n",
       "      <td>1</td>\n",
       "      <td>10648</td>\n",
       "    </tr>\n",
       "    <tr>\n",
       "      <th>1</th>\n",
       "      <td>Waste and wastewater management</td>\n",
       "      <td>5</td>\n",
       "      <td>6959</td>\n",
       "    </tr>\n",
       "    <tr>\n",
       "      <th>2</th>\n",
       "      <td>Mineral industry</td>\n",
       "      <td>3</td>\n",
       "      <td>4554</td>\n",
       "    </tr>\n",
       "    <tr>\n",
       "      <th>3</th>\n",
       "      <td>Chemical industry</td>\n",
       "      <td>4</td>\n",
       "      <td>1810</td>\n",
       "    </tr>\n",
       "    <tr>\n",
       "      <th>4</th>\n",
       "      <td>Paper and wood production and processing</td>\n",
       "      <td>6</td>\n",
       "      <td>1610</td>\n",
       "    </tr>\n",
       "    <tr>\n",
       "      <th>5</th>\n",
       "      <td>Production and processing of metals</td>\n",
       "      <td>2</td>\n",
       "      <td>1376</td>\n",
       "    </tr>\n",
       "    <tr>\n",
       "      <th>6</th>\n",
       "      <td>Intensive livestock production and aquaculture</td>\n",
       "      <td>7</td>\n",
       "      <td>916</td>\n",
       "    </tr>\n",
       "    <tr>\n",
       "      <th>7</th>\n",
       "      <td>Animal and vegetable products from the food an...</td>\n",
       "      <td>8</td>\n",
       "      <td>525</td>\n",
       "    </tr>\n",
       "    <tr>\n",
       "      <th>8</th>\n",
       "      <td>Other activities</td>\n",
       "      <td>9</td>\n",
       "      <td>103</td>\n",
       "    </tr>\n",
       "  </tbody>\n",
       "</table>\n",
       "</div>"
      ],
      "text/plain": [
       "                                     eprtrSectorName EPRTRSectorCode      0\n",
       "0                                      Energy sector               1  10648\n",
       "1                    Waste and wastewater management               5   6959\n",
       "2                                   Mineral industry               3   4554\n",
       "3                                  Chemical industry               4   1810\n",
       "4           Paper and wood production and processing               6   1610\n",
       "5                Production and processing of metals               2   1376\n",
       "6     Intensive livestock production and aquaculture               7    916\n",
       "7  Animal and vegetable products from the food an...               8    525\n",
       "8                                   Other activities               9    103"
      ]
     },
     "execution_count": 242,
     "metadata": {},
     "output_type": "execute_result"
    }
   ],
   "source": [
    "pd.DataFrame(df_bo[['eprtrSectorName', 'EPRTRSectorCode']].value_counts()).reset_index()"
   ]
  },
  {
   "cell_type": "code",
   "execution_count": 230,
   "metadata": {},
   "outputs": [],
   "source": [
    "df_bo = pd.concat([train_csv, json_df])"
   ]
  },
  {
   "cell_type": "code",
   "execution_count": 231,
   "metadata": {},
   "outputs": [],
   "source": [
    "df_bo[['eprtrSectorName', 'EPRTRAnnexIMainActivityCode', 'EPRTRSectorCode']].value_counts().to_csv('hla.csv')"
   ]
  },
  {
   "cell_type": "code",
   "execution_count": 198,
   "metadata": {},
   "outputs": [
    {
     "data": {
      "text/plain": [
       "array([nan, '4(a)', '3(c)', '1(c)', '7(a)', '5(a)', '3(c)(i)', '5(b)',\n",
       "       '5(d)', '7(a)(iii)', '4(b)', '8(a)', '2(c)(i)', '4(a)(viii)',\n",
       "       '2(e)(ii)', '7(a)(ii)', '1(a)', '3(e)', '5(e)', '6(b)', '2(a)',\n",
       "       '1(b)', '8(b)', '3(a)', '2(b)', '5(c)', '4(e)', '5(f)', '4(a)(ii)',\n",
       "       '4(a)(x)', '6(a)', '8(b)(ii)', '8(c)', '2(e)', '1(f)', '3(b)',\n",
       "       '3(g)', '4(b)(ii)', '5(g)', '3(c)(iii)', '4(a)(i)', '4(b)(v)',\n",
       "       '2(e)(i)', '2(f)', '1(d)', '3(c)(ii)', '6(c)', '2(c)(ii)',\n",
       "       '7(a)(i)', '4(b)(iv)', '2(d)', '4(b)(iii)', '4(c)', '4(b)(i)',\n",
       "       '2(c)', '4(a)(iv)', '9(c)', '4(a)(iii)', '2(c)(iii)', '4(a)(xi)',\n",
       "       '3(f)', '9(a)', '4(a)(vi)', '4(f)', '9(d)', '4(d)', '1(e)', '9(e)',\n",
       "       '4(a)(v)', '8(b)(i)', '4(a)(ix)'], dtype=object)"
      ]
     },
     "execution_count": 198,
     "metadata": {},
     "output_type": "execute_result"
    }
   ],
   "source": [
    "train_csv['EPRTRAnnexIMainActivityCode'].unique()"
   ]
  },
  {
   "cell_type": "code",
   "execution_count": 199,
   "metadata": {},
   "outputs": [
    {
     "data": {
      "text/plain": [
       "array([nan, '4', '3', '1', '7', '5', '8', '2', '6', '9'], dtype=object)"
      ]
     },
     "execution_count": 199,
     "metadata": {},
     "output_type": "execute_result"
    }
   ],
   "source": [
    "train_csv['EPRTRSectorCode'].unique()"
   ]
  },
  {
   "cell_type": "code",
   "execution_count": 168,
   "metadata": {},
   "outputs": [
    {
     "data": {
      "text/plain": [
       "{'pollutant'}"
      ]
     },
     "execution_count": 168,
     "metadata": {},
     "output_type": "execute_result"
    }
   ],
   "source": [
    "set(train_csv.columns) - set(pd.read_csv(test_data_dir_csv).columns)"
   ]
  },
  {
   "cell_type": "code",
   "execution_count": 169,
   "metadata": {},
   "outputs": [
    {
     "data": {
      "text/plain": [
       "Index(['test_index', 'countryName', 'EPRTRSectorCode', 'eprtrSectorName',\n",
       "       'EPRTRAnnexIMainActivityCode', 'EPRTRAnnexIMainActivityLabel',\n",
       "       'FacilityInspireID', 'facilityName', 'City', 'targetRelease',\n",
       "       'reportingYear', 'MONTH', 'DAY', 'CONTINENT', 'max_wind_speed',\n",
       "       'avg_wind_speed', 'min_wind_speed', 'max_temp', 'avg_temp', 'min_temp',\n",
       "       'DAY WITH FOGS', 'REPORTER NAME', 'CITY ID'],\n",
       "      dtype='object')"
      ]
     },
     "execution_count": 169,
     "metadata": {},
     "output_type": "execute_result"
    }
   ],
   "source": [
    "pd.read_csv(test_data_dir_csv).columns"
   ]
  },
  {
   "cell_type": "code",
   "execution_count": 170,
   "metadata": {},
   "outputs": [
    {
     "data": {
      "text/plain": [
       "countryName                      object\n",
       "eprtrSectorName                  object\n",
       "EPRTRAnnexIMainActivityLabel     object\n",
       "FacilityInspireID                object\n",
       "facilityName                     object\n",
       "City                             object\n",
       "targetRelease                    object\n",
       "pollutant                        object\n",
       "reportingYear                     int64\n",
       "MONTH                             int64\n",
       "DAY                               int64\n",
       "CONTINENT                        object\n",
       "max_wind_speed                  float64\n",
       "avg_wind_speed                  float64\n",
       "min_wind_speed                  float64\n",
       "max_temp                        float64\n",
       "avg_temp                        float64\n",
       "min_temp                        float64\n",
       "DAY WITH FOGS                     int64\n",
       "REPORTER NAME                    object\n",
       "CITY ID                          object\n",
       "EPRTRAnnexIMainActivityCode      object\n",
       "EPRTRSectorCode                  object\n",
       "dtype: object"
      ]
     },
     "execution_count": 170,
     "metadata": {},
     "output_type": "execute_result"
    }
   ],
   "source": [
    "train_csv.dtypes"
   ]
  },
  {
   "cell_type": "code",
   "execution_count": 174,
   "metadata": {},
   "outputs": [],
   "source": [
    "pr = train_csv.profile_report()"
   ]
  },
  {
   "cell_type": "code",
   "execution_count": 175,
   "metadata": {},
   "outputs": [
    {
     "name": "stderr",
     "output_type": "stream",
     "text": [
      "Summarize dataset: 100%|██████████| 160/160 [00:46<00:00,  3.42it/s, Completed]                                  \n",
      "Generate report structure: 100%|██████████| 1/1 [00:14<00:00, 14.57s/it]\n",
      "Render HTML: 100%|██████████| 1/1 [00:06<00:00,  6.15s/it]\n",
      "Export report to file: 100%|██████████| 1/1 [00:00<00:00, 42.79it/s]\n"
     ]
    }
   ],
   "source": [
    "pr.to_file('report_train.html')"
   ]
  },
  {
   "cell_type": "markdown",
   "metadata": {},
   "source": [
    "### Models"
   ]
  },
  {
   "cell_type": "code",
   "execution_count": null,
   "metadata": {},
   "outputs": [],
   "source": []
  },
  {
   "cell_type": "markdown",
   "metadata": {},
   "source": [
    "### Training"
   ]
  },
  {
   "cell_type": "code",
   "execution_count": null,
   "metadata": {},
   "outputs": [],
   "source": []
  },
  {
   "cell_type": "markdown",
   "metadata": {},
   "source": [
    "### Testing"
   ]
  },
  {
   "cell_type": "code",
   "execution_count": null,
   "metadata": {},
   "outputs": [],
   "source": []
  }
 ],
 "metadata": {
  "kernelspec": {
   "display_name": "Python 3.8.10 64-bit",
   "language": "python",
   "name": "python3"
  },
  "language_info": {
   "codemirror_mode": {
    "name": "ipython",
    "version": 3
   },
   "file_extension": ".py",
   "mimetype": "text/x-python",
   "name": "python",
   "nbconvert_exporter": "python",
   "pygments_lexer": "ipython3",
   "version": "3.8.10"
  },
  "orig_nbformat": 4,
  "vscode": {
   "interpreter": {
    "hash": "916dbcbb3f70747c44a77c7bcd40155683ae19c65e1c03b4aa3499c5328201f1"
   }
  }
 },
 "nbformat": 4,
 "nbformat_minor": 2
}
