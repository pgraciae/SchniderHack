{
  "cells": [
    {
      "cell_type": "markdown",
      "metadata": {
        "id": "S1cYz8RTNHVS"
      },
      "source": [
        "# Schneider Electrick Hackaton - Data Science\n",
        "## Team 4 - Gerard Jover Pujol - Pol Gràcia Espelt"
      ]
    },
    {
      "cell_type": "markdown",
      "metadata": {
        "id": "BElar2NmNHVV"
      },
      "source": [
        "### Modules import"
      ]
    },
    {
      "cell_type": "code",
      "execution_count": 28,
      "metadata": {
        "id": "bQk3VusYNHVW"
      },
      "outputs": [],
      "source": [
        "import os\n",
        "import sklearn\n",
        "import pandas as pd\n",
        "import numpy as np \n",
        "import requests as r\n",
        "import pandas_profiling\n",
        "import pdfplumber\n",
        "import sklearn.model_selection"
      ]
    },
    {
      "cell_type": "markdown",
      "metadata": {
        "id": "YbQ_OyCdNHVZ"
      },
      "source": [
        "### Data load"
      ]
    },
    {
      "cell_type": "code",
      "execution_count": 2,
      "metadata": {
        "id": "WjEp1NVbNHVZ"
      },
      "outputs": [],
      "source": [
        "project_path = \"./\"\n",
        "train_data_dir_csv = [project_path + 'Data/CSV/' + x for x in os.listdir(project_path+'Data/CSV') if 'train' in x]\n",
        "test_data_dir_csv = [project_path + 'Data/CSV/' + x for x in os.listdir(project_path+'Data/CSV') if 'test' in x][0]\n",
        "train_data_dir_pdf = [project_path + 'Data/pdf/' + x for  x in os.listdir(project_path+'Data/pdf')]\n",
        "train_data_api = project_path + 'Data/json/links.txt'"
      ]
    },
    {
      "cell_type": "markdown",
      "metadata": {
        "id": "gNin-ibTNHVa"
      },
      "source": [
        "#### CSV"
      ]
    },
    {
      "cell_type": "code",
      "execution_count": 3,
      "metadata": {
        "id": "4_IO5ooFNHVb"
      },
      "outputs": [],
      "source": [
        "train_csv = pd.concat([pd.read_csv(train_data_dir_csv[0]), pd.read_csv(train_data_dir_csv[1], sep = ';')])"
      ]
    },
    {
      "cell_type": "code",
      "execution_count": 4,
      "metadata": {
        "colab": {
          "base_uri": "https://localhost:8080/",
          "height": 300
        },
        "id": "4nCbT26DNHVb",
        "outputId": "881e7eca-9098-4dcd-f5f8-3ed0bfebe12f"
      },
      "outputs": [
        {
          "data": {
            "text/html": [
              "<div>\n",
              "<style scoped>\n",
              "    .dataframe tbody tr th:only-of-type {\n",
              "        vertical-align: middle;\n",
              "    }\n",
              "\n",
              "    .dataframe tbody tr th {\n",
              "        vertical-align: top;\n",
              "    }\n",
              "\n",
              "    .dataframe thead th {\n",
              "        text-align: right;\n",
              "    }\n",
              "</style>\n",
              "<table border=\"1\" class=\"dataframe\">\n",
              "  <thead>\n",
              "    <tr style=\"text-align: right;\">\n",
              "      <th></th>\n",
              "      <th>reportingYear</th>\n",
              "      <th>MONTH</th>\n",
              "      <th>DAY</th>\n",
              "      <th>max_wind_speed</th>\n",
              "      <th>avg_wind_speed</th>\n",
              "      <th>min_wind_speed</th>\n",
              "      <th>max_temp</th>\n",
              "      <th>avg_temp</th>\n",
              "      <th>min_temp</th>\n",
              "      <th>DAY WITH FOGS</th>\n",
              "    </tr>\n",
              "  </thead>\n",
              "  <tbody>\n",
              "    <tr>\n",
              "      <th>count</th>\n",
              "      <td>37127.000000</td>\n",
              "      <td>37127.000000</td>\n",
              "      <td>37127.000000</td>\n",
              "      <td>37127.000000</td>\n",
              "      <td>37127.000000</td>\n",
              "      <td>37127.000000</td>\n",
              "      <td>37127.000000</td>\n",
              "      <td>37127.000000</td>\n",
              "      <td>37127.000000</td>\n",
              "      <td>37127.000000</td>\n",
              "    </tr>\n",
              "    <tr>\n",
              "      <th>mean</th>\n",
              "      <td>2012.951841</td>\n",
              "      <td>6.487031</td>\n",
              "      <td>14.540335</td>\n",
              "      <td>15.510519</td>\n",
              "      <td>18.013596</td>\n",
              "      <td>22.523559</td>\n",
              "      <td>9.452422</td>\n",
              "      <td>10.441560</td>\n",
              "      <td>13.431015</td>\n",
              "      <td>2.228217</td>\n",
              "    </tr>\n",
              "    <tr>\n",
              "      <th>std</th>\n",
              "      <td>3.856172</td>\n",
              "      <td>3.467030</td>\n",
              "      <td>8.128336</td>\n",
              "      <td>3.070188</td>\n",
              "      <td>2.313407</td>\n",
              "      <td>3.064919</td>\n",
              "      <td>5.232214</td>\n",
              "      <td>5.094000</td>\n",
              "      <td>5.225196</td>\n",
              "      <td>3.775751</td>\n",
              "    </tr>\n",
              "    <tr>\n",
              "      <th>min</th>\n",
              "      <td>2007.000000</td>\n",
              "      <td>1.000000</td>\n",
              "      <td>1.000000</td>\n",
              "      <td>8.062689</td>\n",
              "      <td>14.000287</td>\n",
              "      <td>15.055647</td>\n",
              "      <td>-3.141464</td>\n",
              "      <td>-0.199176</td>\n",
              "      <td>0.894827</td>\n",
              "      <td>0.000000</td>\n",
              "    </tr>\n",
              "    <tr>\n",
              "      <th>25%</th>\n",
              "      <td>2010.000000</td>\n",
              "      <td>3.000000</td>\n",
              "      <td>8.000000</td>\n",
              "      <td>13.315477</td>\n",
              "      <td>16.007158</td>\n",
              "      <td>20.361339</td>\n",
              "      <td>5.855159</td>\n",
              "      <td>7.158428</td>\n",
              "      <td>9.866841</td>\n",
              "      <td>0.000000</td>\n",
              "    </tr>\n",
              "    <tr>\n",
              "      <th>50%</th>\n",
              "      <td>2013.000000</td>\n",
              "      <td>7.000000</td>\n",
              "      <td>15.000000</td>\n",
              "      <td>15.503568</td>\n",
              "      <td>18.006838</td>\n",
              "      <td>22.553985</td>\n",
              "      <td>9.734382</td>\n",
              "      <td>10.733914</td>\n",
              "      <td>13.723792</td>\n",
              "      <td>1.000000</td>\n",
              "    </tr>\n",
              "    <tr>\n",
              "      <th>75%</th>\n",
              "      <td>2016.000000</td>\n",
              "      <td>9.000000</td>\n",
              "      <td>22.000000</td>\n",
              "      <td>17.708038</td>\n",
              "      <td>20.013530</td>\n",
              "      <td>24.713992</td>\n",
              "      <td>13.287165</td>\n",
              "      <td>14.162492</td>\n",
              "      <td>17.235091</td>\n",
              "      <td>2.000000</td>\n",
              "    </tr>\n",
              "    <tr>\n",
              "      <th>max</th>\n",
              "      <td>2020.000000</td>\n",
              "      <td>12.000000</td>\n",
              "      <td>28.000000</td>\n",
              "      <td>22.991382</td>\n",
              "      <td>21.999973</td>\n",
              "      <td>29.914367</td>\n",
              "      <td>20.855885</td>\n",
              "      <td>19.999403</td>\n",
              "      <td>24.855425</td>\n",
              "      <td>19.000000</td>\n",
              "    </tr>\n",
              "  </tbody>\n",
              "</table>\n",
              "</div>"
            ],
            "text/plain": [
              "       reportingYear         MONTH           DAY  max_wind_speed  \\\n",
              "count   37127.000000  37127.000000  37127.000000    37127.000000   \n",
              "mean     2012.951841      6.487031     14.540335       15.510519   \n",
              "std         3.856172      3.467030      8.128336        3.070188   \n",
              "min      2007.000000      1.000000      1.000000        8.062689   \n",
              "25%      2010.000000      3.000000      8.000000       13.315477   \n",
              "50%      2013.000000      7.000000     15.000000       15.503568   \n",
              "75%      2016.000000      9.000000     22.000000       17.708038   \n",
              "max      2020.000000     12.000000     28.000000       22.991382   \n",
              "\n",
              "       avg_wind_speed  min_wind_speed      max_temp      avg_temp  \\\n",
              "count    37127.000000    37127.000000  37127.000000  37127.000000   \n",
              "mean        18.013596       22.523559      9.452422     10.441560   \n",
              "std          2.313407        3.064919      5.232214      5.094000   \n",
              "min         14.000287       15.055647     -3.141464     -0.199176   \n",
              "25%         16.007158       20.361339      5.855159      7.158428   \n",
              "50%         18.006838       22.553985      9.734382     10.733914   \n",
              "75%         20.013530       24.713992     13.287165     14.162492   \n",
              "max         21.999973       29.914367     20.855885     19.999403   \n",
              "\n",
              "           min_temp  DAY WITH FOGS  \n",
              "count  37127.000000   37127.000000  \n",
              "mean      13.431015       2.228217  \n",
              "std        5.225196       3.775751  \n",
              "min        0.894827       0.000000  \n",
              "25%        9.866841       0.000000  \n",
              "50%       13.723792       1.000000  \n",
              "75%       17.235091       2.000000  \n",
              "max       24.855425      19.000000  "
            ]
          },
          "execution_count": 4,
          "metadata": {},
          "output_type": "execute_result"
        }
      ],
      "source": [
        "train_csv.describe()"
      ]
    },
    {
      "cell_type": "markdown",
      "metadata": {
        "id": "_TaIWwEnNHVd"
      },
      "source": [
        "### api"
      ]
    },
    {
      "cell_type": "code",
      "execution_count": 5,
      "metadata": {
        "id": "sktODI41NHVe"
      },
      "outputs": [],
      "source": [
        "with open(train_data_api) as file:\n",
        "    links = [link.strip() for link in file]\n",
        "\n",
        "int_cols = ['MONTH','reportingYear', 'DAY', 'max_wind_speed', 'avg_wind_speed', 'min_wind_speed', 'max_temp', 'min_temp', 'avg_temp', 'DAY WITH FOGS']\n",
        "json_df = pd.DataFrame()\n",
        "for link in links:\n",
        "    data_json = r.get(link).json()\n",
        "    tmp_df = pd.json_normalize(data_json)\n",
        "    #set index\n",
        "    tmp_df.set_index(tmp_df[''], inplace = True)\n",
        "    tmp_df.drop('', axis = 1, inplace=True)\n",
        "    #values to int\n",
        "    tmp_df[int_cols] = tmp_df[int_cols].apply(pd.to_numeric)\n",
        "    #print(tmp_df.columns)\n",
        "    #concat\n",
        "    json_df = pd.concat([json_df, tmp_df])\n",
        "    #train_csv = pd.concat([train_csv, tmp_df])"
      ]
    },
    {
      "cell_type": "markdown",
      "metadata": {
        "id": "ityThJ3uOQx1"
      },
      "source": [
        "### Combine csv and json"
      ]
    },
    {
      "cell_type": "code",
      "execution_count": 6,
      "metadata": {
        "id": "pdTCQ4SBOQQM"
      },
      "outputs": [],
      "source": [
        "df_bo = pd.concat([train_csv, json_df])"
      ]
    },
    {
      "cell_type": "markdown",
      "metadata": {
        "id": "0iDkLmnYTYkV"
      },
      "source": [
        "### Replace nans"
      ]
    },
    {
      "cell_type": "code",
      "execution_count": 7,
      "metadata": {
        "colab": {
          "base_uri": "https://localhost:8080/",
          "height": 424
        },
        "id": "jMoVgdp2NHVk",
        "outputId": "ca39ba55-176e-4473-ef72-4e583bbca33f"
      },
      "outputs": [],
      "source": [
        "label2code = pd.DataFrame(df_bo[['EPRTRAnnexIMainActivityLabel', 'EPRTRAnnexIMainActivityCode', 'EPRTRSectorCode']].value_counts()).reset_index()"
      ]
    },
    {
      "cell_type": "code",
      "execution_count": 8,
      "metadata": {
        "id": "4w4N-CLnQx_F"
      },
      "outputs": [],
      "source": [
        "label2SC = dict(zip(list(label2code.EPRTRAnnexIMainActivityLabel), list(label2code.EPRTRSectorCode)))\n",
        "label2MAC = dict(zip(list(label2code.EPRTRAnnexIMainActivityLabel), list(label2code.EPRTRAnnexIMainActivityCode)))"
      ]
    },
    {
      "cell_type": "code",
      "execution_count": 9,
      "metadata": {
        "id": "JWCM1LFiNHVk"
      },
      "outputs": [],
      "source": [
        "f = lambda x: label2SC[x] if x != 'Chemical installations for the production on an industrial scale of basic organic chemicals: Organometallic compounds' else np.nan\n",
        "df_bo['EPRTRSectorCode'] = df_bo['EPRTRAnnexIMainActivityLabel'].apply(f)"
      ]
    },
    {
      "cell_type": "code",
      "execution_count": 10,
      "metadata": {
        "id": "7dr03-AKNHVl"
      },
      "outputs": [],
      "source": [
        "f = lambda x: label2MAC[x] if x != 'Chemical installations for the production on an industrial scale of basic organic chemicals: Organometallic compounds' else np.nan\n",
        "df_bo['EPRTRAnnexIMainActivityCode'] = df_bo['EPRTRAnnexIMainActivityLabel'].apply(f)"
      ]
    },
    {
      "cell_type": "markdown",
      "metadata": {
        "id": "v1aQ-mkDURh2"
      },
      "source": [
        "### pdf"
      ]
    },
    {
      "cell_type": "code",
      "execution_count": 11,
      "metadata": {
        "id": "pfLtskH2UVyu"
      },
      "outputs": [],
      "source": [
        "def pdf_2_dict(pdf_path):\n",
        "    # Extract text from pdf file\n",
        "    with pdfplumber.open(pdf_path) as temp:\n",
        "        first_page = temp.pages[0]\n",
        "        text = first_page.extract_text()\n",
        "        text_list = text.split(\"\\n\")\n",
        "\n",
        "    # Create empty dict\n",
        "    pdf_dict = {}\n",
        "\n",
        "    # Generate new fields\n",
        "    pdf_dict[\"id\"] = int(text_list[1].split()[1])\n",
        "    pdf_dict[\"facilityName\"] = \" \".join(text_list[2].split()[2:-1])\n",
        "    pdf_dict[\"FacilityInspireID\"] = text_list[3].split()[1]\n",
        "    pdf_dict[\"countryName\"] = \" \".join(text_list[4].split(\"CONTINENT:\")[0].split()[1:])\n",
        "    pdf_dict[\"CONTINENT\"] = \" \".join(text_list[4].split(\"CONTINENT:\")[1:])[1:]\n",
        "    pdf_dict[\"City\"] = \" \".join(text_list[5].split()[1:])\n",
        "    pdf_dict[\"EPRTRSectorCode\"] = int(\" \".join(text_list[6].split(\"eprtrSectorName:\")[0].split()[1:]))\n",
        "    pdf_dict[\"eprtrSectorName\"] = \" \".join(text_list[6].split(\"eprtrSectorName:\")[1:])[1:]\n",
        "    pdf_dict[\"EPRTRAnnexIMainActivityCode\"] = text_list[7].split(\":\")[1]\n",
        "    pdf_dict[\"targetRelease\"] = \" \".join(text_list[8].split(\"pollutant:\")[0].split()[1:])\n",
        "    pdf_dict[\"pollutant\"] = \" \".join(text_list[8].split(\"pollutant:\")[1:])[1:]\n",
        "    pdf_dict[\"emissions\"] = float(text_list[9].split()[1].replace(\",\", \".\"))\n",
        "    pdf_dict[\"DAY\"] = int(text_list[10].split()[1])\n",
        "    pdf_dict[\"MONTH\"] = int(text_list[10].split()[3])\n",
        "    pdf_dict[\"reportingYear\"] = int(text_list[10].split()[5])\n",
        "    pdf_dict[\"max_wind_speed\"] = float(text_list[12].split()[1].replace(\",\", \".\")) / 10e15\n",
        "    pdf_dict[\"min_wind_speed\"] = float(text_list[12].split()[3].replace(\",\", \".\"))/ 10e15\n",
        "    pdf_dict[\"avg_wind_speed\"] = float(text_list[12].split()[5].replace(\",\", \".\"))/ 10e15\n",
        "    pdf_dict[\"max_temp\"] = float(text_list[13].split()[1].replace(\",\", \".\")) / 10e15\n",
        "    pdf_dict[\"min_temp\"] = float(text_list[13].split()[3].replace(\",\", \".\")) / 10e15\n",
        "    pdf_dict[\"avg_temp\"] = float(text_list[13].split()[5].replace(\",\", \".\"))/ 10e15\n",
        "    pdf_dict[\"DAY WITH FOGS\"] = int(text_list[14].split()[-1])\n",
        "    pdf_dict[\"REPORTER NAME\"] = text_list[15].split(\"REPORTER NAME:\")[-1]\n",
        "    pdf_dict[\"CITY ID\"] = text_list[16].split(\"CITY_ID \")[-1]\n",
        "\n",
        "    return pdf_dict"
      ]
    },
    {
      "cell_type": "code",
      "execution_count": 12,
      "metadata": {
        "id": "zMHDqjQZUWke"
      },
      "outputs": [],
      "source": [
        "df_pdf = pd.DataFrame()\n",
        "for pdf_path in train_data_dir_pdf:\n",
        "    pdf_dict = pdf_2_dict(pdf_path)\n",
        "    pd_series = pd.Series(pdf_dict)\n",
        "    df_pdf = df_pdf.append(pd_series, ignore_index=True)"
      ]
    },
    {
      "cell_type": "markdown",
      "metadata": {
        "id": "gwPd5bI1VE32"
      },
      "source": [
        "### combine csv, json and pdf"
      ]
    },
    {
      "cell_type": "code",
      "execution_count": 13,
      "metadata": {
        "id": "UtAaz33xVJeY"
      },
      "outputs": [],
      "source": [
        "df_final = pd.concat([df_bo, df_pdf])"
      ]
    },
    {
      "cell_type": "code",
      "execution_count": 14,
      "metadata": {},
      "outputs": [
        {
          "data": {
            "text/plain": [
              "(65710, 25)"
            ]
          },
          "execution_count": 14,
          "metadata": {},
          "output_type": "execute_result"
        }
      ],
      "source": [
        "df_final.shape"
      ]
    },
    {
      "cell_type": "markdown",
      "metadata": {
        "id": "v-vxx88eV11e"
      },
      "source": [
        "### remove columns"
      ]
    },
    {
      "cell_type": "code",
      "execution_count": 15,
      "metadata": {
        "id": "M42MTwOtV3ZC"
      },
      "outputs": [],
      "source": [
        "drop_cols = [\"id\", \"emissions\", \"EPRTRAnnexIMainActivityLabel\", \"targetRelease\", \"CONTINENT\", \"CITY ID\", 'max_wind_speed',\t'avg_wind_speed',\t'min_wind_speed',\t'max_temp',\t'avg_temp',\t'min_temp']\n",
        "df_final = df_final.drop(drop_cols, axis=1)"
      ]
    },
    {
      "cell_type": "markdown",
      "metadata": {
        "id": "i16RwVGbbIjo"
      },
      "source": [
        "### dtypes"
      ]
    },
    {
      "cell_type": "code",
      "execution_count": 16,
      "metadata": {
        "id": "CMU-ErbHb0fD"
      },
      "outputs": [],
      "source": [
        "from pandas.api.types import is_string_dtype\n",
        "from pandas.api.types import is_numeric_dtype"
      ]
    },
    {
      "cell_type": "code",
      "execution_count": 17,
      "metadata": {
        "id": "HPNZG0BMbHzA"
      },
      "outputs": [],
      "source": [
        "for col in df_final.columns:\n",
        "    if col != \"pollutant\":\n",
        "        if is_string_dtype(df_final[col]):\n",
        "            df_final[col] = df_final[col].astype('category').cat.codes\n",
        "        if is_numeric_dtype(df_final[col]):\n",
        "            df_final[col] = df_final[col].astype(np.int64)"
      ]
    },
    {
      "cell_type": "markdown",
      "metadata": {
        "id": "TGv1XHBLdS48"
      },
      "source": [
        "### target"
      ]
    },
    {
      "cell_type": "code",
      "execution_count": 18,
      "metadata": {
        "id": "3EqrolAtdWzE"
      },
      "outputs": [],
      "source": [
        "from sklearn.preprocessing import OrdinalEncoder\n",
        "\n",
        "\n",
        "ord_enc = OrdinalEncoder()\n",
        "df_final[\"pollutant\"] = ord_enc.fit_transform(df_final[[\"pollutant\"]])\n",
        "#ord_enc.inverse_transform"
      ]
    },
    {
      "cell_type": "code",
      "execution_count": null,
      "metadata": {
        "id": "yBWkfRjeeGAw"
      },
      "outputs": [],
      "source": [
        "# df_final.to_csv(\"df_final.csv\")"
      ]
    },
    {
      "cell_type": "markdown",
      "metadata": {
        "id": "bhtjGQcZNHVn"
      },
      "source": [
        "### Models"
      ]
    },
    {
      "cell_type": "code",
      "execution_count": 32,
      "metadata": {
        "id": "THGjHu6MNHVn"
      },
      "outputs": [],
      "source": [
        "target = 'pollutant'\n",
        "X = df_final.drop(target, axis = 1).to_numpy()\n",
        "y = df_final[target].to_numpy()\n",
        "df_final.to_numpy()\n",
        "X_train, X_test, y_train, y_test = sklearn.model_selection.train_test_split(X, y, test_size=0.20, random_state=42)"
      ]
    },
    {
      "cell_type": "code",
      "execution_count": 34,
      "metadata": {},
      "outputs": [],
      "source": [
        "from modelHandler import ModelHandler"
      ]
    },
    {
      "cell_type": "code",
      "execution_count": 35,
      "metadata": {},
      "outputs": [],
      "source": [
        "xgb = ModelHandler(X = X_train, Y = y_train, model = 'XGB')"
      ]
    },
    {
      "cell_type": "code",
      "execution_count": null,
      "metadata": {},
      "outputs": [],
      "source": [
        "xgb.fit()"
      ]
    },
    {
      "cell_type": "markdown",
      "metadata": {
        "id": "ySBoFMCgNHVn"
      },
      "source": [
        "### Training"
      ]
    },
    {
      "cell_type": "code",
      "execution_count": null,
      "metadata": {
        "id": "KO-dVaAjNHVo"
      },
      "outputs": [],
      "source": []
    },
    {
      "cell_type": "markdown",
      "metadata": {
        "id": "ugj7FV9PNHVo"
      },
      "source": [
        "### Testing"
      ]
    },
    {
      "cell_type": "code",
      "execution_count": null,
      "metadata": {
        "id": "tT_Ypc4UNHVo"
      },
      "outputs": [],
      "source": []
    }
  ],
  "metadata": {
    "colab": {
      "name": "main.ipynb",
      "provenance": []
    },
    "kernelspec": {
      "display_name": "Python 3.8.10 64-bit",
      "language": "python",
      "name": "python3"
    },
    "language_info": {
      "codemirror_mode": {
        "name": "ipython",
        "version": 3
      },
      "file_extension": ".py",
      "mimetype": "text/x-python",
      "name": "python",
      "nbconvert_exporter": "python",
      "pygments_lexer": "ipython3",
      "version": "3.8.10"
    },
    "orig_nbformat": 4,
    "vscode": {
      "interpreter": {
        "hash": "916dbcbb3f70747c44a77c7bcd40155683ae19c65e1c03b4aa3499c5328201f1"
      }
    }
  },
  "nbformat": 4,
  "nbformat_minor": 0
}
