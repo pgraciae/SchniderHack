{
  "cells": [
    {
      "cell_type": "markdown",
      "metadata": {
        "id": "S1cYz8RTNHVS"
      },
      "source": [
        "# Schneider Electrick Hackaton - Data Science\n",
        "## Team 4 - Gerard Jover Pujol - Pol Gràcia Espelt"
      ]
    },
    {
      "cell_type": "code",
      "source": [
        "from google.colab import drive\n",
        "drive.mount('/content/drive')"
      ],
      "metadata": {
        "colab": {
          "base_uri": "https://localhost:8080/"
        },
        "id": "_gdJhNcpNK_q",
        "outputId": "f0fd7e00-1daa-469c-c9fe-9c28d8b6d8ca"
      },
      "execution_count": 1,
      "outputs": [
        {
          "output_type": "stream",
          "name": "stdout",
          "text": [
            "Drive already mounted at /content/drive; to attempt to forcibly remount, call drive.mount(\"/content/drive\", force_remount=True).\n"
          ]
        }
      ]
    },
    {
      "cell_type": "markdown",
      "metadata": {
        "id": "BElar2NmNHVV"
      },
      "source": [
        "### Modules import"
      ]
    },
    {
      "cell_type": "code",
      "execution_count": 2,
      "metadata": {
        "id": "bQk3VusYNHVW"
      },
      "outputs": [],
      "source": [
        "import os\n",
        "import sklearn as sk\n",
        "import pandas as pd\n",
        "import numpy as np \n",
        "import requests as r\n",
        "import pandas_profiling"
      ]
    },
    {
      "cell_type": "markdown",
      "metadata": {
        "id": "YbQ_OyCdNHVZ"
      },
      "source": [
        "### Data load"
      ]
    },
    {
      "cell_type": "code",
      "execution_count": 3,
      "metadata": {
        "id": "WjEp1NVbNHVZ"
      },
      "outputs": [],
      "source": [
        "project_path = \"/content/drive/MyDrive/Data_Science_&_AI/NUWE/\"\n",
        "train_data_dir_csv = [project_path + 'Data/CSV/' + x for x in os.listdir(project_path+'Data/CSV') if 'train' in x]\n",
        "test_data_dir_csv = [project_path + 'Data/CSV/' + x for x in os.listdir(project_path+'Data/CSV') if 'test' in x][0]\n",
        "train_data_dir_pdf = [project_path + 'Data/pdf/' + x for  x in os.listdir(project_path+'Data/pdf')]\n",
        "train_data_api = project_path + 'Data/json/links.txt'"
      ]
    },
    {
      "cell_type": "markdown",
      "metadata": {
        "id": "gNin-ibTNHVa"
      },
      "source": [
        "#### CSV"
      ]
    },
    {
      "cell_type": "code",
      "execution_count": 4,
      "metadata": {
        "id": "4_IO5ooFNHVb"
      },
      "outputs": [],
      "source": [
        "train_csv = pd.concat([pd.read_csv(train_data_dir_csv[0]), pd.read_csv(train_data_dir_csv[1], sep = ';')])"
      ]
    },
    {
      "cell_type": "code",
      "execution_count": 5,
      "metadata": {
        "colab": {
          "base_uri": "https://localhost:8080/",
          "height": 300
        },
        "id": "4nCbT26DNHVb",
        "outputId": "881e7eca-9098-4dcd-f5f8-3ed0bfebe12f"
      },
      "outputs": [
        {
          "output_type": "execute_result",
          "data": {
            "text/plain": [
              "       reportingYear         MONTH           DAY  max_wind_speed  \\\n",
              "count   37127.000000  37127.000000  37127.000000    37127.000000   \n",
              "mean     2012.951841      6.487031     14.540335       15.510519   \n",
              "std         3.856172      3.467030      8.128336        3.070188   \n",
              "min      2007.000000      1.000000      1.000000        8.062689   \n",
              "25%      2010.000000      3.000000      8.000000       13.315477   \n",
              "50%      2013.000000      7.000000     15.000000       15.503568   \n",
              "75%      2016.000000      9.000000     22.000000       17.708038   \n",
              "max      2020.000000     12.000000     28.000000       22.991382   \n",
              "\n",
              "       avg_wind_speed  min_wind_speed      max_temp      avg_temp  \\\n",
              "count    37127.000000    37127.000000  37127.000000  37127.000000   \n",
              "mean        18.013596       22.523559      9.452422     10.441560   \n",
              "std          2.313407        3.064919      5.232214      5.094000   \n",
              "min         14.000287       15.055647     -3.141464     -0.199176   \n",
              "25%         16.007158       20.361339      5.855159      7.158428   \n",
              "50%         18.006838       22.553985      9.734382     10.733914   \n",
              "75%         20.013530       24.713992     13.287165     14.162492   \n",
              "max         21.999973       29.914367     20.855885     19.999403   \n",
              "\n",
              "           min_temp  DAY WITH FOGS  \n",
              "count  37127.000000   37127.000000  \n",
              "mean      13.431015       2.228217  \n",
              "std        5.225196       3.775751  \n",
              "min        0.894827       0.000000  \n",
              "25%        9.866841       0.000000  \n",
              "50%       13.723792       1.000000  \n",
              "75%       17.235091       2.000000  \n",
              "max       24.855425      19.000000  "
            ],
            "text/html": [
              "\n",
              "  <div id=\"df-86eb2555-dd86-41ca-ae94-74ee63946ac2\">\n",
              "    <div class=\"colab-df-container\">\n",
              "      <div>\n",
              "<style scoped>\n",
              "    .dataframe tbody tr th:only-of-type {\n",
              "        vertical-align: middle;\n",
              "    }\n",
              "\n",
              "    .dataframe tbody tr th {\n",
              "        vertical-align: top;\n",
              "    }\n",
              "\n",
              "    .dataframe thead th {\n",
              "        text-align: right;\n",
              "    }\n",
              "</style>\n",
              "<table border=\"1\" class=\"dataframe\">\n",
              "  <thead>\n",
              "    <tr style=\"text-align: right;\">\n",
              "      <th></th>\n",
              "      <th>reportingYear</th>\n",
              "      <th>MONTH</th>\n",
              "      <th>DAY</th>\n",
              "      <th>max_wind_speed</th>\n",
              "      <th>avg_wind_speed</th>\n",
              "      <th>min_wind_speed</th>\n",
              "      <th>max_temp</th>\n",
              "      <th>avg_temp</th>\n",
              "      <th>min_temp</th>\n",
              "      <th>DAY WITH FOGS</th>\n",
              "    </tr>\n",
              "  </thead>\n",
              "  <tbody>\n",
              "    <tr>\n",
              "      <th>count</th>\n",
              "      <td>37127.000000</td>\n",
              "      <td>37127.000000</td>\n",
              "      <td>37127.000000</td>\n",
              "      <td>37127.000000</td>\n",
              "      <td>37127.000000</td>\n",
              "      <td>37127.000000</td>\n",
              "      <td>37127.000000</td>\n",
              "      <td>37127.000000</td>\n",
              "      <td>37127.000000</td>\n",
              "      <td>37127.000000</td>\n",
              "    </tr>\n",
              "    <tr>\n",
              "      <th>mean</th>\n",
              "      <td>2012.951841</td>\n",
              "      <td>6.487031</td>\n",
              "      <td>14.540335</td>\n",
              "      <td>15.510519</td>\n",
              "      <td>18.013596</td>\n",
              "      <td>22.523559</td>\n",
              "      <td>9.452422</td>\n",
              "      <td>10.441560</td>\n",
              "      <td>13.431015</td>\n",
              "      <td>2.228217</td>\n",
              "    </tr>\n",
              "    <tr>\n",
              "      <th>std</th>\n",
              "      <td>3.856172</td>\n",
              "      <td>3.467030</td>\n",
              "      <td>8.128336</td>\n",
              "      <td>3.070188</td>\n",
              "      <td>2.313407</td>\n",
              "      <td>3.064919</td>\n",
              "      <td>5.232214</td>\n",
              "      <td>5.094000</td>\n",
              "      <td>5.225196</td>\n",
              "      <td>3.775751</td>\n",
              "    </tr>\n",
              "    <tr>\n",
              "      <th>min</th>\n",
              "      <td>2007.000000</td>\n",
              "      <td>1.000000</td>\n",
              "      <td>1.000000</td>\n",
              "      <td>8.062689</td>\n",
              "      <td>14.000287</td>\n",
              "      <td>15.055647</td>\n",
              "      <td>-3.141464</td>\n",
              "      <td>-0.199176</td>\n",
              "      <td>0.894827</td>\n",
              "      <td>0.000000</td>\n",
              "    </tr>\n",
              "    <tr>\n",
              "      <th>25%</th>\n",
              "      <td>2010.000000</td>\n",
              "      <td>3.000000</td>\n",
              "      <td>8.000000</td>\n",
              "      <td>13.315477</td>\n",
              "      <td>16.007158</td>\n",
              "      <td>20.361339</td>\n",
              "      <td>5.855159</td>\n",
              "      <td>7.158428</td>\n",
              "      <td>9.866841</td>\n",
              "      <td>0.000000</td>\n",
              "    </tr>\n",
              "    <tr>\n",
              "      <th>50%</th>\n",
              "      <td>2013.000000</td>\n",
              "      <td>7.000000</td>\n",
              "      <td>15.000000</td>\n",
              "      <td>15.503568</td>\n",
              "      <td>18.006838</td>\n",
              "      <td>22.553985</td>\n",
              "      <td>9.734382</td>\n",
              "      <td>10.733914</td>\n",
              "      <td>13.723792</td>\n",
              "      <td>1.000000</td>\n",
              "    </tr>\n",
              "    <tr>\n",
              "      <th>75%</th>\n",
              "      <td>2016.000000</td>\n",
              "      <td>9.000000</td>\n",
              "      <td>22.000000</td>\n",
              "      <td>17.708038</td>\n",
              "      <td>20.013530</td>\n",
              "      <td>24.713992</td>\n",
              "      <td>13.287165</td>\n",
              "      <td>14.162492</td>\n",
              "      <td>17.235091</td>\n",
              "      <td>2.000000</td>\n",
              "    </tr>\n",
              "    <tr>\n",
              "      <th>max</th>\n",
              "      <td>2020.000000</td>\n",
              "      <td>12.000000</td>\n",
              "      <td>28.000000</td>\n",
              "      <td>22.991382</td>\n",
              "      <td>21.999973</td>\n",
              "      <td>29.914367</td>\n",
              "      <td>20.855885</td>\n",
              "      <td>19.999403</td>\n",
              "      <td>24.855425</td>\n",
              "      <td>19.000000</td>\n",
              "    </tr>\n",
              "  </tbody>\n",
              "</table>\n",
              "</div>\n",
              "      <button class=\"colab-df-convert\" onclick=\"convertToInteractive('df-86eb2555-dd86-41ca-ae94-74ee63946ac2')\"\n",
              "              title=\"Convert this dataframe to an interactive table.\"\n",
              "              style=\"display:none;\">\n",
              "        \n",
              "  <svg xmlns=\"http://www.w3.org/2000/svg\" height=\"24px\"viewBox=\"0 0 24 24\"\n",
              "       width=\"24px\">\n",
              "    <path d=\"M0 0h24v24H0V0z\" fill=\"none\"/>\n",
              "    <path d=\"M18.56 5.44l.94 2.06.94-2.06 2.06-.94-2.06-.94-.94-2.06-.94 2.06-2.06.94zm-11 1L8.5 8.5l.94-2.06 2.06-.94-2.06-.94L8.5 2.5l-.94 2.06-2.06.94zm10 10l.94 2.06.94-2.06 2.06-.94-2.06-.94-.94-2.06-.94 2.06-2.06.94z\"/><path d=\"M17.41 7.96l-1.37-1.37c-.4-.4-.92-.59-1.43-.59-.52 0-1.04.2-1.43.59L10.3 9.45l-7.72 7.72c-.78.78-.78 2.05 0 2.83L4 21.41c.39.39.9.59 1.41.59.51 0 1.02-.2 1.41-.59l7.78-7.78 2.81-2.81c.8-.78.8-2.07 0-2.86zM5.41 20L4 18.59l7.72-7.72 1.47 1.35L5.41 20z\"/>\n",
              "  </svg>\n",
              "      </button>\n",
              "      \n",
              "  <style>\n",
              "    .colab-df-container {\n",
              "      display:flex;\n",
              "      flex-wrap:wrap;\n",
              "      gap: 12px;\n",
              "    }\n",
              "\n",
              "    .colab-df-convert {\n",
              "      background-color: #E8F0FE;\n",
              "      border: none;\n",
              "      border-radius: 50%;\n",
              "      cursor: pointer;\n",
              "      display: none;\n",
              "      fill: #1967D2;\n",
              "      height: 32px;\n",
              "      padding: 0 0 0 0;\n",
              "      width: 32px;\n",
              "    }\n",
              "\n",
              "    .colab-df-convert:hover {\n",
              "      background-color: #E2EBFA;\n",
              "      box-shadow: 0px 1px 2px rgba(60, 64, 67, 0.3), 0px 1px 3px 1px rgba(60, 64, 67, 0.15);\n",
              "      fill: #174EA6;\n",
              "    }\n",
              "\n",
              "    [theme=dark] .colab-df-convert {\n",
              "      background-color: #3B4455;\n",
              "      fill: #D2E3FC;\n",
              "    }\n",
              "\n",
              "    [theme=dark] .colab-df-convert:hover {\n",
              "      background-color: #434B5C;\n",
              "      box-shadow: 0px 1px 3px 1px rgba(0, 0, 0, 0.15);\n",
              "      filter: drop-shadow(0px 1px 2px rgba(0, 0, 0, 0.3));\n",
              "      fill: #FFFFFF;\n",
              "    }\n",
              "  </style>\n",
              "\n",
              "      <script>\n",
              "        const buttonEl =\n",
              "          document.querySelector('#df-86eb2555-dd86-41ca-ae94-74ee63946ac2 button.colab-df-convert');\n",
              "        buttonEl.style.display =\n",
              "          google.colab.kernel.accessAllowed ? 'block' : 'none';\n",
              "\n",
              "        async function convertToInteractive(key) {\n",
              "          const element = document.querySelector('#df-86eb2555-dd86-41ca-ae94-74ee63946ac2');\n",
              "          const dataTable =\n",
              "            await google.colab.kernel.invokeFunction('convertToInteractive',\n",
              "                                                     [key], {});\n",
              "          if (!dataTable) return;\n",
              "\n",
              "          const docLinkHtml = 'Like what you see? Visit the ' +\n",
              "            '<a target=\"_blank\" href=https://colab.research.google.com/notebooks/data_table.ipynb>data table notebook</a>'\n",
              "            + ' to learn more about interactive tables.';\n",
              "          element.innerHTML = '';\n",
              "          dataTable['output_type'] = 'display_data';\n",
              "          await google.colab.output.renderOutput(dataTable, element);\n",
              "          const docLink = document.createElement('div');\n",
              "          docLink.innerHTML = docLinkHtml;\n",
              "          element.appendChild(docLink);\n",
              "        }\n",
              "      </script>\n",
              "    </div>\n",
              "  </div>\n",
              "  "
            ]
          },
          "metadata": {},
          "execution_count": 5
        }
      ],
      "source": [
        "train_csv.describe()"
      ]
    },
    {
      "cell_type": "markdown",
      "metadata": {
        "id": "_TaIWwEnNHVd"
      },
      "source": [
        "### api"
      ]
    },
    {
      "cell_type": "code",
      "execution_count": 6,
      "metadata": {
        "id": "sktODI41NHVe"
      },
      "outputs": [],
      "source": [
        "with open(train_data_api) as file:\n",
        "    links = [link.strip() for link in file]\n",
        "\n",
        "int_cols = ['MONTH','reportingYear', 'DAY', 'max_wind_speed', 'avg_wind_speed', 'min_wind_speed', 'max_temp', 'min_temp', 'avg_temp', 'DAY WITH FOGS']\n",
        "json_df = pd.DataFrame()\n",
        "for link in links:\n",
        "    data_json = r.get(link).json()\n",
        "    tmp_df = pd.json_normalize(data_json)\n",
        "    #set index\n",
        "    tmp_df.set_index(tmp_df[''], inplace = True)\n",
        "    tmp_df.drop('', axis = 1, inplace=True)\n",
        "    #values to int\n",
        "    tmp_df[int_cols] = tmp_df[int_cols].apply(pd.to_numeric)\n",
        "    #print(tmp_df.columns)\n",
        "    #concat\n",
        "    json_df = pd.concat([json_df, tmp_df])\n",
        "    #train_csv = pd.concat([train_csv, tmp_df])"
      ]
    },
    {
      "cell_type": "code",
      "execution_count": 7,
      "metadata": {
        "id": "7je1gZGgNHVf"
      },
      "outputs": [],
      "source": [
        "c = 0\n",
        "l = list(json_df['facilityName'])\n",
        "for x in train_csv.facilityName:\n",
        "    if x not in l:\n",
        "        c+=1"
      ]
    },
    {
      "cell_type": "markdown",
      "source": [
        "### Combine csv and json"
      ],
      "metadata": {
        "id": "ityThJ3uOQx1"
      }
    },
    {
      "cell_type": "code",
      "source": [
        "df_bo = pd.concat([train_csv, json_df])"
      ],
      "metadata": {
        "id": "pdTCQ4SBOQQM"
      },
      "execution_count": 8,
      "outputs": []
    },
    {
      "cell_type": "code",
      "source": [
        "df_bo.isna().sum()"
      ],
      "metadata": {
        "colab": {
          "base_uri": "https://localhost:8080/"
        },
        "id": "GETSSJnDO_dY",
        "outputId": "706766ca-eb79-4256-cc14-305d53a3743a"
      },
      "execution_count": 9,
      "outputs": [
        {
          "output_type": "execute_result",
          "data": {
            "text/plain": [
              "countryName                         0\n",
              "eprtrSectorName                     0\n",
              "EPRTRAnnexIMainActivityLabel        0\n",
              "FacilityInspireID                   0\n",
              "facilityName                        0\n",
              "City                                0\n",
              "targetRelease                       0\n",
              "pollutant                           0\n",
              "reportingYear                       0\n",
              "MONTH                               0\n",
              "DAY                                 0\n",
              "CONTINENT                           0\n",
              "max_wind_speed                      0\n",
              "avg_wind_speed                      0\n",
              "min_wind_speed                      0\n",
              "max_temp                            0\n",
              "avg_temp                            0\n",
              "min_temp                            0\n",
              "DAY WITH FOGS                       0\n",
              "REPORTER NAME                       0\n",
              "CITY ID                             0\n",
              "EPRTRAnnexIMainActivityCode     37127\n",
              "EPRTRSectorCode                 37127\n",
              "dtype: int64"
            ]
          },
          "metadata": {},
          "execution_count": 9
        }
      ]
    },
    {
      "cell_type": "markdown",
      "source": [
        "### Replace nans"
      ],
      "metadata": {
        "id": "0iDkLmnYTYkV"
      }
    },
    {
      "cell_type": "code",
      "execution_count": 10,
      "metadata": {
        "colab": {
          "base_uri": "https://localhost:8080/",
          "height": 424
        },
        "id": "jMoVgdp2NHVk",
        "outputId": "ca39ba55-176e-4473-ef72-4e583bbca33f"
      },
      "outputs": [
        {
          "output_type": "execute_result",
          "data": {
            "text/plain": [
              "                         EPRTRAnnexIMainActivityLabel  \\\n",
              "0   Thermal power stations and other combustion in...   \n",
              "1   Landfills (excluding landfills of inert waste ...   \n",
              "2   Installations for the incineration of non-haza...   \n",
              "3   Installations for the production of cement cli...   \n",
              "4   Installations for the manufacture of glass, in...   \n",
              "..                                                ...   \n",
              "65  Industrial plants for the preservation of wood...   \n",
              "66  Chemical installations for the production on a...   \n",
              "67  Installations for the production on an industr...   \n",
              "68  Installations for the building of, and paintin...   \n",
              "69  Chemical installations for the production on a...   \n",
              "\n",
              "   EPRTRAnnexIMainActivityCode EPRTRSectorCode     0  \n",
              "0                         1(c)               1  9378  \n",
              "1                         5(d)               5  4481  \n",
              "2                         5(b)               5  1552  \n",
              "3                      3(c)(i)               3  1504  \n",
              "4                         3(e)               3  1213  \n",
              "..                         ...             ...   ...  \n",
              "65                        6(c)               6     5  \n",
              "66                   4(b)(iii)               4     5  \n",
              "67                        4(f)               4     3  \n",
              "68                        9(e)               9     3  \n",
              "69                     4(a)(v)               4     1  \n",
              "\n",
              "[70 rows x 4 columns]"
            ],
            "text/html": [
              "\n",
              "  <div id=\"df-e9ed4d69-7c58-4e44-9a8f-6e977163bf6f\">\n",
              "    <div class=\"colab-df-container\">\n",
              "      <div>\n",
              "<style scoped>\n",
              "    .dataframe tbody tr th:only-of-type {\n",
              "        vertical-align: middle;\n",
              "    }\n",
              "\n",
              "    .dataframe tbody tr th {\n",
              "        vertical-align: top;\n",
              "    }\n",
              "\n",
              "    .dataframe thead th {\n",
              "        text-align: right;\n",
              "    }\n",
              "</style>\n",
              "<table border=\"1\" class=\"dataframe\">\n",
              "  <thead>\n",
              "    <tr style=\"text-align: right;\">\n",
              "      <th></th>\n",
              "      <th>EPRTRAnnexIMainActivityLabel</th>\n",
              "      <th>EPRTRAnnexIMainActivityCode</th>\n",
              "      <th>EPRTRSectorCode</th>\n",
              "      <th>0</th>\n",
              "    </tr>\n",
              "  </thead>\n",
              "  <tbody>\n",
              "    <tr>\n",
              "      <th>0</th>\n",
              "      <td>Thermal power stations and other combustion in...</td>\n",
              "      <td>1(c)</td>\n",
              "      <td>1</td>\n",
              "      <td>9378</td>\n",
              "    </tr>\n",
              "    <tr>\n",
              "      <th>1</th>\n",
              "      <td>Landfills (excluding landfills of inert waste ...</td>\n",
              "      <td>5(d)</td>\n",
              "      <td>5</td>\n",
              "      <td>4481</td>\n",
              "    </tr>\n",
              "    <tr>\n",
              "      <th>2</th>\n",
              "      <td>Installations for the incineration of non-haza...</td>\n",
              "      <td>5(b)</td>\n",
              "      <td>5</td>\n",
              "      <td>1552</td>\n",
              "    </tr>\n",
              "    <tr>\n",
              "      <th>3</th>\n",
              "      <td>Installations for the production of cement cli...</td>\n",
              "      <td>3(c)(i)</td>\n",
              "      <td>3</td>\n",
              "      <td>1504</td>\n",
              "    </tr>\n",
              "    <tr>\n",
              "      <th>4</th>\n",
              "      <td>Installations for the manufacture of glass, in...</td>\n",
              "      <td>3(e)</td>\n",
              "      <td>3</td>\n",
              "      <td>1213</td>\n",
              "    </tr>\n",
              "    <tr>\n",
              "      <th>...</th>\n",
              "      <td>...</td>\n",
              "      <td>...</td>\n",
              "      <td>...</td>\n",
              "      <td>...</td>\n",
              "    </tr>\n",
              "    <tr>\n",
              "      <th>65</th>\n",
              "      <td>Industrial plants for the preservation of wood...</td>\n",
              "      <td>6(c)</td>\n",
              "      <td>6</td>\n",
              "      <td>5</td>\n",
              "    </tr>\n",
              "    <tr>\n",
              "      <th>66</th>\n",
              "      <td>Chemical installations for the production on a...</td>\n",
              "      <td>4(b)(iii)</td>\n",
              "      <td>4</td>\n",
              "      <td>5</td>\n",
              "    </tr>\n",
              "    <tr>\n",
              "      <th>67</th>\n",
              "      <td>Installations for the production on an industr...</td>\n",
              "      <td>4(f)</td>\n",
              "      <td>4</td>\n",
              "      <td>3</td>\n",
              "    </tr>\n",
              "    <tr>\n",
              "      <th>68</th>\n",
              "      <td>Installations for the building of, and paintin...</td>\n",
              "      <td>9(e)</td>\n",
              "      <td>9</td>\n",
              "      <td>3</td>\n",
              "    </tr>\n",
              "    <tr>\n",
              "      <th>69</th>\n",
              "      <td>Chemical installations for the production on a...</td>\n",
              "      <td>4(a)(v)</td>\n",
              "      <td>4</td>\n",
              "      <td>1</td>\n",
              "    </tr>\n",
              "  </tbody>\n",
              "</table>\n",
              "<p>70 rows × 4 columns</p>\n",
              "</div>\n",
              "      <button class=\"colab-df-convert\" onclick=\"convertToInteractive('df-e9ed4d69-7c58-4e44-9a8f-6e977163bf6f')\"\n",
              "              title=\"Convert this dataframe to an interactive table.\"\n",
              "              style=\"display:none;\">\n",
              "        \n",
              "  <svg xmlns=\"http://www.w3.org/2000/svg\" height=\"24px\"viewBox=\"0 0 24 24\"\n",
              "       width=\"24px\">\n",
              "    <path d=\"M0 0h24v24H0V0z\" fill=\"none\"/>\n",
              "    <path d=\"M18.56 5.44l.94 2.06.94-2.06 2.06-.94-2.06-.94-.94-2.06-.94 2.06-2.06.94zm-11 1L8.5 8.5l.94-2.06 2.06-.94-2.06-.94L8.5 2.5l-.94 2.06-2.06.94zm10 10l.94 2.06.94-2.06 2.06-.94-2.06-.94-.94-2.06-.94 2.06-2.06.94z\"/><path d=\"M17.41 7.96l-1.37-1.37c-.4-.4-.92-.59-1.43-.59-.52 0-1.04.2-1.43.59L10.3 9.45l-7.72 7.72c-.78.78-.78 2.05 0 2.83L4 21.41c.39.39.9.59 1.41.59.51 0 1.02-.2 1.41-.59l7.78-7.78 2.81-2.81c.8-.78.8-2.07 0-2.86zM5.41 20L4 18.59l7.72-7.72 1.47 1.35L5.41 20z\"/>\n",
              "  </svg>\n",
              "      </button>\n",
              "      \n",
              "  <style>\n",
              "    .colab-df-container {\n",
              "      display:flex;\n",
              "      flex-wrap:wrap;\n",
              "      gap: 12px;\n",
              "    }\n",
              "\n",
              "    .colab-df-convert {\n",
              "      background-color: #E8F0FE;\n",
              "      border: none;\n",
              "      border-radius: 50%;\n",
              "      cursor: pointer;\n",
              "      display: none;\n",
              "      fill: #1967D2;\n",
              "      height: 32px;\n",
              "      padding: 0 0 0 0;\n",
              "      width: 32px;\n",
              "    }\n",
              "\n",
              "    .colab-df-convert:hover {\n",
              "      background-color: #E2EBFA;\n",
              "      box-shadow: 0px 1px 2px rgba(60, 64, 67, 0.3), 0px 1px 3px 1px rgba(60, 64, 67, 0.15);\n",
              "      fill: #174EA6;\n",
              "    }\n",
              "\n",
              "    [theme=dark] .colab-df-convert {\n",
              "      background-color: #3B4455;\n",
              "      fill: #D2E3FC;\n",
              "    }\n",
              "\n",
              "    [theme=dark] .colab-df-convert:hover {\n",
              "      background-color: #434B5C;\n",
              "      box-shadow: 0px 1px 3px 1px rgba(0, 0, 0, 0.15);\n",
              "      filter: drop-shadow(0px 1px 2px rgba(0, 0, 0, 0.3));\n",
              "      fill: #FFFFFF;\n",
              "    }\n",
              "  </style>\n",
              "\n",
              "      <script>\n",
              "        const buttonEl =\n",
              "          document.querySelector('#df-e9ed4d69-7c58-4e44-9a8f-6e977163bf6f button.colab-df-convert');\n",
              "        buttonEl.style.display =\n",
              "          google.colab.kernel.accessAllowed ? 'block' : 'none';\n",
              "\n",
              "        async function convertToInteractive(key) {\n",
              "          const element = document.querySelector('#df-e9ed4d69-7c58-4e44-9a8f-6e977163bf6f');\n",
              "          const dataTable =\n",
              "            await google.colab.kernel.invokeFunction('convertToInteractive',\n",
              "                                                     [key], {});\n",
              "          if (!dataTable) return;\n",
              "\n",
              "          const docLinkHtml = 'Like what you see? Visit the ' +\n",
              "            '<a target=\"_blank\" href=https://colab.research.google.com/notebooks/data_table.ipynb>data table notebook</a>'\n",
              "            + ' to learn more about interactive tables.';\n",
              "          element.innerHTML = '';\n",
              "          dataTable['output_type'] = 'display_data';\n",
              "          await google.colab.output.renderOutput(dataTable, element);\n",
              "          const docLink = document.createElement('div');\n",
              "          docLink.innerHTML = docLinkHtml;\n",
              "          element.appendChild(docLink);\n",
              "        }\n",
              "      </script>\n",
              "    </div>\n",
              "  </div>\n",
              "  "
            ]
          },
          "metadata": {},
          "execution_count": 10
        }
      ],
      "source": [
        "label2code = pd.DataFrame(df_bo[['EPRTRAnnexIMainActivityLabel', 'EPRTRAnnexIMainActivityCode', 'EPRTRSectorCode']].value_counts()).reset_index()\n",
        "label2code"
      ]
    },
    {
      "cell_type": "code",
      "source": [
        "label2SC = dict(zip(list(label2code.EPRTRAnnexIMainActivityLabel), list(label2code.EPRTRSectorCode)))\n",
        "label2MAC = dict(zip(list(label2code.EPRTRAnnexIMainActivityLabel), list(label2code.EPRTRAnnexIMainActivityCode)))"
      ],
      "metadata": {
        "id": "4w4N-CLnQx_F"
      },
      "execution_count": 11,
      "outputs": []
    },
    {
      "cell_type": "code",
      "execution_count": 12,
      "metadata": {
        "id": "JWCM1LFiNHVk"
      },
      "outputs": [],
      "source": [
        "f = lambda x: label2SC[x] if x != 'Chemical installations for the production on an industrial scale of basic organic chemicals: Organometallic compounds' else np.nan\n",
        "df_bo['EPRTRSectorCode'] = df_bo['EPRTRAnnexIMainActivityLabel'].apply(f)"
      ]
    },
    {
      "cell_type": "code",
      "execution_count": 13,
      "metadata": {
        "id": "7dr03-AKNHVl"
      },
      "outputs": [],
      "source": [
        "f = lambda x: label2MAC[x] if x != 'Chemical installations for the production on an industrial scale of basic organic chemicals: Organometallic compounds' else np.nan\n",
        "df_bo['EPRTRAnnexIMainActivityCode'] = df_bo['EPRTRAnnexIMainActivityLabel'].apply(f)"
      ]
    },
    {
      "cell_type": "code",
      "execution_count": 14,
      "metadata": {
        "colab": {
          "base_uri": "https://localhost:8080/"
        },
        "id": "g3hvsPQoNHVl",
        "outputId": "ce919be0-b0b5-4dac-e9bc-978868118166"
      },
      "outputs": [
        {
          "output_type": "execute_result",
          "data": {
            "text/plain": [
              "countryName                     0\n",
              "eprtrSectorName                 0\n",
              "EPRTRAnnexIMainActivityLabel    0\n",
              "FacilityInspireID               0\n",
              "facilityName                    0\n",
              "City                            0\n",
              "targetRelease                   0\n",
              "pollutant                       0\n",
              "reportingYear                   0\n",
              "MONTH                           0\n",
              "DAY                             0\n",
              "CONTINENT                       0\n",
              "max_wind_speed                  0\n",
              "avg_wind_speed                  0\n",
              "min_wind_speed                  0\n",
              "max_temp                        0\n",
              "avg_temp                        0\n",
              "min_temp                        0\n",
              "DAY WITH FOGS                   0\n",
              "REPORTER NAME                   0\n",
              "CITY ID                         0\n",
              "EPRTRAnnexIMainActivityCode     2\n",
              "EPRTRSectorCode                 2\n",
              "dtype: int64"
            ]
          },
          "metadata": {},
          "execution_count": 14
        }
      ],
      "source": [
        "df_bo.isna().sum()"
      ]
    },
    {
      "cell_type": "markdown",
      "source": [
        "### pdf"
      ],
      "metadata": {
        "id": "v1aQ-mkDURh2"
      }
    },
    {
      "cell_type": "code",
      "source": [
        "!pip install pdfplumber"
      ],
      "metadata": {
        "colab": {
          "base_uri": "https://localhost:8080/"
        },
        "id": "9NACptiaUREH",
        "outputId": "883bed0a-91f4-4102-ef3d-6f9905e223d0"
      },
      "execution_count": 15,
      "outputs": [
        {
          "output_type": "stream",
          "name": "stdout",
          "text": [
            "Requirement already satisfied: pdfplumber in /usr/local/lib/python3.7/dist-packages (0.6.2)\n",
            "Requirement already satisfied: pdfminer.six==20220319 in /usr/local/lib/python3.7/dist-packages (from pdfplumber) (20220319)\n",
            "Requirement already satisfied: Pillow>=9.1 in /usr/local/lib/python3.7/dist-packages (from pdfplumber) (9.1.1)\n",
            "Requirement already satisfied: Wand>=0.6.7 in /usr/local/lib/python3.7/dist-packages (from pdfplumber) (0.6.7)\n",
            "Requirement already satisfied: chardet in /usr/local/lib/python3.7/dist-packages (from pdfminer.six==20220319->pdfplumber) (3.0.4)\n",
            "Requirement already satisfied: cryptography in /usr/local/lib/python3.7/dist-packages (from pdfminer.six==20220319->pdfplumber) (37.0.2)\n",
            "Requirement already satisfied: cffi>=1.12 in /usr/local/lib/python3.7/dist-packages (from cryptography->pdfminer.six==20220319->pdfplumber) (1.15.0)\n",
            "Requirement already satisfied: pycparser in /usr/local/lib/python3.7/dist-packages (from cffi>=1.12->cryptography->pdfminer.six==20220319->pdfplumber) (2.21)\n"
          ]
        }
      ]
    },
    {
      "cell_type": "code",
      "source": [
        "import pdfplumber\n",
        "\n",
        "def pdf_2_dict(pdf_path):\n",
        "    # Extract text from pdf file\n",
        "    with pdfplumber.open(pdf_path) as temp:\n",
        "        first_page = temp.pages[0]\n",
        "        text = first_page.extract_text()\n",
        "        text_list = text.split(\"\\n\")\n",
        "\n",
        "    # Create empty dict\n",
        "    pdf_dict = {}\n",
        "\n",
        "    # Generate new fields\n",
        "    pdf_dict[\"id\"] = int(text_list[1].split()[1])\n",
        "    pdf_dict[\"facilityName\"] = \" \".join(text_list[2].split()[2:-1])\n",
        "    pdf_dict[\"FacilityInspireID\"] = text_list[3].split()[1]\n",
        "    pdf_dict[\"countryName\"] = \" \".join(text_list[4].split(\"CONTINENT:\")[0].split()[1:])\n",
        "    pdf_dict[\"CONTINENT\"] = \" \".join(text_list[4].split(\"CONTINENT:\")[1:])[1:]\n",
        "    pdf_dict[\"City\"] = \" \".join(text_list[5].split()[1:])\n",
        "    pdf_dict[\"EPRTRSectorCode\"] = int(\" \".join(text_list[6].split(\"eprtrSectorName:\")[0].split()[1:]))\n",
        "    pdf_dict[\"eprtrSectorName\"] = \" \".join(text_list[6].split(\"eprtrSectorName:\")[1:])[1:]\n",
        "    pdf_dict[\"EPRTRAnnexIMainActivityCode\"] = text_list[7].split(\":\")[1]\n",
        "    pdf_dict[\"targetRelease\"] = \" \".join(text_list[8].split(\"pollutant:\")[0].split()[1:])\n",
        "    pdf_dict[\"pollutant\"] = \" \".join(text_list[8].split(\"pollutant:\")[1:])[1:]\n",
        "    pdf_dict[\"emissions\"] = float(text_list[9].split()[1].replace(\",\", \".\"))\n",
        "    pdf_dict[\"DAY\"] = int(text_list[10].split()[1])\n",
        "    pdf_dict[\"MONTH\"] = int(text_list[10].split()[3])\n",
        "    pdf_dict[\"reportingYear\"] = int(text_list[10].split()[5])\n",
        "    pdf_dict[\"max_wind_speed\"] = float(text_list[12].split()[1].replace(\",\", \".\"))\n",
        "    pdf_dict[\"min_wind_speed\"] = float(text_list[12].split()[3].replace(\",\", \".\"))\n",
        "    pdf_dict[\"avg_wind_speed\"] = float(text_list[12].split()[5].replace(\",\", \".\"))\n",
        "    pdf_dict[\"max_temp\"] = float(text_list[13].split()[1].replace(\",\", \".\"))\n",
        "    pdf_dict[\"min_temp\"] = float(text_list[13].split()[3].replace(\",\", \".\"))\n",
        "    pdf_dict[\"avg_temp\"] = float(text_list[13].split()[5].replace(\",\", \".\"))\n",
        "    pdf_dict[\"DAY WITH FOGS\"] = int(text_list[14].split()[-1])\n",
        "    pdf_dict[\"REPORTER NAME\"] = text_list[15].split(\"REPORTER NAME:\")[-1]\n",
        "    pdf_dict[\"CITY ID\"] = text_list[16].split(\"CITY_ID \")[-1]\n",
        "\n",
        "    return pdf_dict"
      ],
      "metadata": {
        "id": "pfLtskH2UVyu"
      },
      "execution_count": 16,
      "outputs": []
    },
    {
      "cell_type": "code",
      "source": [
        "pdf_path_dir = \"/content/drive/MyDrive/Data_Science_&_AI/NUWE/Data/pdf/\"\n",
        "pdf_path_list = os.listdir(pdf_path_dir)\n",
        "\n",
        "df_pdf = pd.DataFrame()\n",
        "for pdf_path in pdf_path_list:\n",
        "    pdf_dict = pdf_2_dict(pdf_path_dir + pdf_path)\n",
        "    pd_series = pd.Series(pdf_dict)\n",
        "    df_pdf = df_pdf.append(pd_series, ignore_index=True)"
      ],
      "metadata": {
        "id": "zMHDqjQZUWke"
      },
      "execution_count": 17,
      "outputs": []
    },
    {
      "cell_type": "markdown",
      "source": [
        "### combine csv, json and pdf"
      ],
      "metadata": {
        "id": "gwPd5bI1VE32"
      }
    },
    {
      "cell_type": "code",
      "source": [
        "df_final = pd.concat([df_bo, df_pdf])"
      ],
      "metadata": {
        "id": "UtAaz33xVJeY"
      },
      "execution_count": 25,
      "outputs": []
    },
    {
      "cell_type": "markdown",
      "source": [
        "### remove columns"
      ],
      "metadata": {
        "id": "v-vxx88eV11e"
      }
    },
    {
      "cell_type": "code",
      "source": [
        "drop_cols = [\"id\", \"emissions\", \"EPRTRAnnexIMainActivityLabel\", \"targetRelease\", \"CONTINENT\", \"CITY ID\"]\n",
        "df_final = df_final.drop(drop_cols, axis=1)"
      ],
      "metadata": {
        "id": "M42MTwOtV3ZC"
      },
      "execution_count": 26,
      "outputs": []
    },
    {
      "cell_type": "markdown",
      "source": [
        "### dtypes"
      ],
      "metadata": {
        "id": "i16RwVGbbIjo"
      }
    },
    {
      "cell_type": "code",
      "source": [
        "from pandas.api.types import is_string_dtype\n",
        "from pandas.api.types import is_numeric_dtype"
      ],
      "metadata": {
        "id": "CMU-ErbHb0fD"
      },
      "execution_count": 27,
      "outputs": []
    },
    {
      "cell_type": "code",
      "source": [
        "for col in df_final.columns:\n",
        "    if col != \"pollutant\":\n",
        "        if is_string_dtype(df_final[col]):\n",
        "            df_final[col] = df_final[col].astype('category').cat.codes\n",
        "        if is_numeric_dtype(df_final[col]):\n",
        "            df_final[col] = df_final[col].astype(np.int32)"
      ],
      "metadata": {
        "id": "HPNZG0BMbHzA"
      },
      "execution_count": 28,
      "outputs": []
    },
    {
      "cell_type": "markdown",
      "source": [
        "### target"
      ],
      "metadata": {
        "id": "TGv1XHBLdS48"
      }
    },
    {
      "cell_type": "code",
      "source": [
        "from sklearn.preprocessing import OrdinalEncoder\n",
        "\n",
        "\n",
        "ord_enc = OrdinalEncoder()\n",
        "df_final[\"pollutant\"] = ord_enc.fit_transform(df_final[[\"pollutant\"]])\n",
        "#ord_enc.inverse_transform"
      ],
      "metadata": {
        "id": "3EqrolAtdWzE"
      },
      "execution_count": 29,
      "outputs": []
    },
    {
      "cell_type": "code",
      "source": [
        "df_final"
      ],
      "metadata": {
        "colab": {
          "base_uri": "https://localhost:8080/",
          "height": 523
        },
        "id": "9YxwZDOPcmF5",
        "outputId": "9ea70655-2ff8-46d8-fd66-4c861b67243e"
      },
      "execution_count": 34,
      "outputs": [
        {
          "output_type": "execute_result",
          "data": {
            "text/plain": [
              "    countryName  eprtrSectorName  FacilityInspireID  facilityName  City  \\\n",
              "0            10                4               6787          3390  4139   \n",
              "1            15                4               3413          6713  4366   \n",
              "2            28                8               1328          1439  3349   \n",
              "3             5                2                565          2634  2119   \n",
              "4             8                8               6222          6879  4453   \n",
              "..          ...              ...                ...           ...   ...   \n",
              "77           31                2               6215          3555  1718   \n",
              "78           31                8               6159          6824  4304   \n",
              "79           31                8               6161           740  3405   \n",
              "80           31                8               6199          1990  1264   \n",
              "81           31                8               6151           808   217   \n",
              "\n",
              "    pollutant  reportingYear  MONTH  DAY  max_wind_speed  avg_wind_speed  \\\n",
              "0         0.0           2015     10   20              15              14   \n",
              "1         2.0           2018      9   21              19              19   \n",
              "2         1.0           2019      2    4              12              14   \n",
              "3         2.0           2012      8    6              11              16   \n",
              "4         1.0           2018     12   22              17              20   \n",
              "..        ...            ...    ...  ...             ...             ...   \n",
              "77        2.0           2019      1   19     -2147483648     -2147483648   \n",
              "78        1.0           2019      4    9     -2147483648     -2147483648   \n",
              "79        1.0           2019      7   18     -2147483648     -2147483648   \n",
              "80        1.0           2019      1   22     -2147483648     -2147483648   \n",
              "81        1.0           2019      6   27     -2147483648     -2147483648   \n",
              "\n",
              "    min_wind_speed    max_temp    avg_temp    min_temp  DAY WITH FOGS  \\\n",
              "0               21           2           4           9              2   \n",
              "1               21           5           7          12              1   \n",
              "2               17           1           4           8              2   \n",
              "3               17          10          10          15              0   \n",
              "4               21          11          11          16              2   \n",
              "..             ...         ...         ...         ...            ...   \n",
              "77     -2147483648 -2147483648 -2147483648 -2147483648             13   \n",
              "78     -2147483648 -2147483648 -2147483648 -2147483648              5   \n",
              "79     -2147483648 -2147483648 -2147483648 -2147483648              4   \n",
              "80     -2147483648 -2147483648 -2147483648 -2147483648              2   \n",
              "81     -2147483648 -2147483648 -2147483648 -2147483648             18   \n",
              "\n",
              "    REPORTER NAME  EPRTRAnnexIMainActivityCode  EPRTRSectorCode  \n",
              "0           32063                           20                7  \n",
              "1            3650                           19                7  \n",
              "2           44039                           50                9  \n",
              "3            6831                            2                5  \n",
              "4            4684                           52                9  \n",
              "..            ...                          ...              ...  \n",
              "77          23968                            2                0  \n",
              "78          37889                           50                3  \n",
              "79          30533                           49                3  \n",
              "80          22153                           50                3  \n",
              "81          37316                           50                3  \n",
              "\n",
              "[65710 rows x 19 columns]"
            ],
            "text/html": [
              "\n",
              "  <div id=\"df-db7bc6f3-c020-4e81-b3f2-aa9eb4c83eff\">\n",
              "    <div class=\"colab-df-container\">\n",
              "      <div>\n",
              "<style scoped>\n",
              "    .dataframe tbody tr th:only-of-type {\n",
              "        vertical-align: middle;\n",
              "    }\n",
              "\n",
              "    .dataframe tbody tr th {\n",
              "        vertical-align: top;\n",
              "    }\n",
              "\n",
              "    .dataframe thead th {\n",
              "        text-align: right;\n",
              "    }\n",
              "</style>\n",
              "<table border=\"1\" class=\"dataframe\">\n",
              "  <thead>\n",
              "    <tr style=\"text-align: right;\">\n",
              "      <th></th>\n",
              "      <th>countryName</th>\n",
              "      <th>eprtrSectorName</th>\n",
              "      <th>FacilityInspireID</th>\n",
              "      <th>facilityName</th>\n",
              "      <th>City</th>\n",
              "      <th>pollutant</th>\n",
              "      <th>reportingYear</th>\n",
              "      <th>MONTH</th>\n",
              "      <th>DAY</th>\n",
              "      <th>max_wind_speed</th>\n",
              "      <th>avg_wind_speed</th>\n",
              "      <th>min_wind_speed</th>\n",
              "      <th>max_temp</th>\n",
              "      <th>avg_temp</th>\n",
              "      <th>min_temp</th>\n",
              "      <th>DAY WITH FOGS</th>\n",
              "      <th>REPORTER NAME</th>\n",
              "      <th>EPRTRAnnexIMainActivityCode</th>\n",
              "      <th>EPRTRSectorCode</th>\n",
              "    </tr>\n",
              "  </thead>\n",
              "  <tbody>\n",
              "    <tr>\n",
              "      <th>0</th>\n",
              "      <td>10</td>\n",
              "      <td>4</td>\n",
              "      <td>6787</td>\n",
              "      <td>3390</td>\n",
              "      <td>4139</td>\n",
              "      <td>0.0</td>\n",
              "      <td>2015</td>\n",
              "      <td>10</td>\n",
              "      <td>20</td>\n",
              "      <td>15</td>\n",
              "      <td>14</td>\n",
              "      <td>21</td>\n",
              "      <td>2</td>\n",
              "      <td>4</td>\n",
              "      <td>9</td>\n",
              "      <td>2</td>\n",
              "      <td>32063</td>\n",
              "      <td>20</td>\n",
              "      <td>7</td>\n",
              "    </tr>\n",
              "    <tr>\n",
              "      <th>1</th>\n",
              "      <td>15</td>\n",
              "      <td>4</td>\n",
              "      <td>3413</td>\n",
              "      <td>6713</td>\n",
              "      <td>4366</td>\n",
              "      <td>2.0</td>\n",
              "      <td>2018</td>\n",
              "      <td>9</td>\n",
              "      <td>21</td>\n",
              "      <td>19</td>\n",
              "      <td>19</td>\n",
              "      <td>21</td>\n",
              "      <td>5</td>\n",
              "      <td>7</td>\n",
              "      <td>12</td>\n",
              "      <td>1</td>\n",
              "      <td>3650</td>\n",
              "      <td>19</td>\n",
              "      <td>7</td>\n",
              "    </tr>\n",
              "    <tr>\n",
              "      <th>2</th>\n",
              "      <td>28</td>\n",
              "      <td>8</td>\n",
              "      <td>1328</td>\n",
              "      <td>1439</td>\n",
              "      <td>3349</td>\n",
              "      <td>1.0</td>\n",
              "      <td>2019</td>\n",
              "      <td>2</td>\n",
              "      <td>4</td>\n",
              "      <td>12</td>\n",
              "      <td>14</td>\n",
              "      <td>17</td>\n",
              "      <td>1</td>\n",
              "      <td>4</td>\n",
              "      <td>8</td>\n",
              "      <td>2</td>\n",
              "      <td>44039</td>\n",
              "      <td>50</td>\n",
              "      <td>9</td>\n",
              "    </tr>\n",
              "    <tr>\n",
              "      <th>3</th>\n",
              "      <td>5</td>\n",
              "      <td>2</td>\n",
              "      <td>565</td>\n",
              "      <td>2634</td>\n",
              "      <td>2119</td>\n",
              "      <td>2.0</td>\n",
              "      <td>2012</td>\n",
              "      <td>8</td>\n",
              "      <td>6</td>\n",
              "      <td>11</td>\n",
              "      <td>16</td>\n",
              "      <td>17</td>\n",
              "      <td>10</td>\n",
              "      <td>10</td>\n",
              "      <td>15</td>\n",
              "      <td>0</td>\n",
              "      <td>6831</td>\n",
              "      <td>2</td>\n",
              "      <td>5</td>\n",
              "    </tr>\n",
              "    <tr>\n",
              "      <th>4</th>\n",
              "      <td>8</td>\n",
              "      <td>8</td>\n",
              "      <td>6222</td>\n",
              "      <td>6879</td>\n",
              "      <td>4453</td>\n",
              "      <td>1.0</td>\n",
              "      <td>2018</td>\n",
              "      <td>12</td>\n",
              "      <td>22</td>\n",
              "      <td>17</td>\n",
              "      <td>20</td>\n",
              "      <td>21</td>\n",
              "      <td>11</td>\n",
              "      <td>11</td>\n",
              "      <td>16</td>\n",
              "      <td>2</td>\n",
              "      <td>4684</td>\n",
              "      <td>52</td>\n",
              "      <td>9</td>\n",
              "    </tr>\n",
              "    <tr>\n",
              "      <th>...</th>\n",
              "      <td>...</td>\n",
              "      <td>...</td>\n",
              "      <td>...</td>\n",
              "      <td>...</td>\n",
              "      <td>...</td>\n",
              "      <td>...</td>\n",
              "      <td>...</td>\n",
              "      <td>...</td>\n",
              "      <td>...</td>\n",
              "      <td>...</td>\n",
              "      <td>...</td>\n",
              "      <td>...</td>\n",
              "      <td>...</td>\n",
              "      <td>...</td>\n",
              "      <td>...</td>\n",
              "      <td>...</td>\n",
              "      <td>...</td>\n",
              "      <td>...</td>\n",
              "      <td>...</td>\n",
              "    </tr>\n",
              "    <tr>\n",
              "      <th>77</th>\n",
              "      <td>31</td>\n",
              "      <td>2</td>\n",
              "      <td>6215</td>\n",
              "      <td>3555</td>\n",
              "      <td>1718</td>\n",
              "      <td>2.0</td>\n",
              "      <td>2019</td>\n",
              "      <td>1</td>\n",
              "      <td>19</td>\n",
              "      <td>-2147483648</td>\n",
              "      <td>-2147483648</td>\n",
              "      <td>-2147483648</td>\n",
              "      <td>-2147483648</td>\n",
              "      <td>-2147483648</td>\n",
              "      <td>-2147483648</td>\n",
              "      <td>13</td>\n",
              "      <td>23968</td>\n",
              "      <td>2</td>\n",
              "      <td>0</td>\n",
              "    </tr>\n",
              "    <tr>\n",
              "      <th>78</th>\n",
              "      <td>31</td>\n",
              "      <td>8</td>\n",
              "      <td>6159</td>\n",
              "      <td>6824</td>\n",
              "      <td>4304</td>\n",
              "      <td>1.0</td>\n",
              "      <td>2019</td>\n",
              "      <td>4</td>\n",
              "      <td>9</td>\n",
              "      <td>-2147483648</td>\n",
              "      <td>-2147483648</td>\n",
              "      <td>-2147483648</td>\n",
              "      <td>-2147483648</td>\n",
              "      <td>-2147483648</td>\n",
              "      <td>-2147483648</td>\n",
              "      <td>5</td>\n",
              "      <td>37889</td>\n",
              "      <td>50</td>\n",
              "      <td>3</td>\n",
              "    </tr>\n",
              "    <tr>\n",
              "      <th>79</th>\n",
              "      <td>31</td>\n",
              "      <td>8</td>\n",
              "      <td>6161</td>\n",
              "      <td>740</td>\n",
              "      <td>3405</td>\n",
              "      <td>1.0</td>\n",
              "      <td>2019</td>\n",
              "      <td>7</td>\n",
              "      <td>18</td>\n",
              "      <td>-2147483648</td>\n",
              "      <td>-2147483648</td>\n",
              "      <td>-2147483648</td>\n",
              "      <td>-2147483648</td>\n",
              "      <td>-2147483648</td>\n",
              "      <td>-2147483648</td>\n",
              "      <td>4</td>\n",
              "      <td>30533</td>\n",
              "      <td>49</td>\n",
              "      <td>3</td>\n",
              "    </tr>\n",
              "    <tr>\n",
              "      <th>80</th>\n",
              "      <td>31</td>\n",
              "      <td>8</td>\n",
              "      <td>6199</td>\n",
              "      <td>1990</td>\n",
              "      <td>1264</td>\n",
              "      <td>1.0</td>\n",
              "      <td>2019</td>\n",
              "      <td>1</td>\n",
              "      <td>22</td>\n",
              "      <td>-2147483648</td>\n",
              "      <td>-2147483648</td>\n",
              "      <td>-2147483648</td>\n",
              "      <td>-2147483648</td>\n",
              "      <td>-2147483648</td>\n",
              "      <td>-2147483648</td>\n",
              "      <td>2</td>\n",
              "      <td>22153</td>\n",
              "      <td>50</td>\n",
              "      <td>3</td>\n",
              "    </tr>\n",
              "    <tr>\n",
              "      <th>81</th>\n",
              "      <td>31</td>\n",
              "      <td>8</td>\n",
              "      <td>6151</td>\n",
              "      <td>808</td>\n",
              "      <td>217</td>\n",
              "      <td>1.0</td>\n",
              "      <td>2019</td>\n",
              "      <td>6</td>\n",
              "      <td>27</td>\n",
              "      <td>-2147483648</td>\n",
              "      <td>-2147483648</td>\n",
              "      <td>-2147483648</td>\n",
              "      <td>-2147483648</td>\n",
              "      <td>-2147483648</td>\n",
              "      <td>-2147483648</td>\n",
              "      <td>18</td>\n",
              "      <td>37316</td>\n",
              "      <td>50</td>\n",
              "      <td>3</td>\n",
              "    </tr>\n",
              "  </tbody>\n",
              "</table>\n",
              "<p>65710 rows × 19 columns</p>\n",
              "</div>\n",
              "      <button class=\"colab-df-convert\" onclick=\"convertToInteractive('df-db7bc6f3-c020-4e81-b3f2-aa9eb4c83eff')\"\n",
              "              title=\"Convert this dataframe to an interactive table.\"\n",
              "              style=\"display:none;\">\n",
              "        \n",
              "  <svg xmlns=\"http://www.w3.org/2000/svg\" height=\"24px\"viewBox=\"0 0 24 24\"\n",
              "       width=\"24px\">\n",
              "    <path d=\"M0 0h24v24H0V0z\" fill=\"none\"/>\n",
              "    <path d=\"M18.56 5.44l.94 2.06.94-2.06 2.06-.94-2.06-.94-.94-2.06-.94 2.06-2.06.94zm-11 1L8.5 8.5l.94-2.06 2.06-.94-2.06-.94L8.5 2.5l-.94 2.06-2.06.94zm10 10l.94 2.06.94-2.06 2.06-.94-2.06-.94-.94-2.06-.94 2.06-2.06.94z\"/><path d=\"M17.41 7.96l-1.37-1.37c-.4-.4-.92-.59-1.43-.59-.52 0-1.04.2-1.43.59L10.3 9.45l-7.72 7.72c-.78.78-.78 2.05 0 2.83L4 21.41c.39.39.9.59 1.41.59.51 0 1.02-.2 1.41-.59l7.78-7.78 2.81-2.81c.8-.78.8-2.07 0-2.86zM5.41 20L4 18.59l7.72-7.72 1.47 1.35L5.41 20z\"/>\n",
              "  </svg>\n",
              "      </button>\n",
              "      \n",
              "  <style>\n",
              "    .colab-df-container {\n",
              "      display:flex;\n",
              "      flex-wrap:wrap;\n",
              "      gap: 12px;\n",
              "    }\n",
              "\n",
              "    .colab-df-convert {\n",
              "      background-color: #E8F0FE;\n",
              "      border: none;\n",
              "      border-radius: 50%;\n",
              "      cursor: pointer;\n",
              "      display: none;\n",
              "      fill: #1967D2;\n",
              "      height: 32px;\n",
              "      padding: 0 0 0 0;\n",
              "      width: 32px;\n",
              "    }\n",
              "\n",
              "    .colab-df-convert:hover {\n",
              "      background-color: #E2EBFA;\n",
              "      box-shadow: 0px 1px 2px rgba(60, 64, 67, 0.3), 0px 1px 3px 1px rgba(60, 64, 67, 0.15);\n",
              "      fill: #174EA6;\n",
              "    }\n",
              "\n",
              "    [theme=dark] .colab-df-convert {\n",
              "      background-color: #3B4455;\n",
              "      fill: #D2E3FC;\n",
              "    }\n",
              "\n",
              "    [theme=dark] .colab-df-convert:hover {\n",
              "      background-color: #434B5C;\n",
              "      box-shadow: 0px 1px 3px 1px rgba(0, 0, 0, 0.15);\n",
              "      filter: drop-shadow(0px 1px 2px rgba(0, 0, 0, 0.3));\n",
              "      fill: #FFFFFF;\n",
              "    }\n",
              "  </style>\n",
              "\n",
              "      <script>\n",
              "        const buttonEl =\n",
              "          document.querySelector('#df-db7bc6f3-c020-4e81-b3f2-aa9eb4c83eff button.colab-df-convert');\n",
              "        buttonEl.style.display =\n",
              "          google.colab.kernel.accessAllowed ? 'block' : 'none';\n",
              "\n",
              "        async function convertToInteractive(key) {\n",
              "          const element = document.querySelector('#df-db7bc6f3-c020-4e81-b3f2-aa9eb4c83eff');\n",
              "          const dataTable =\n",
              "            await google.colab.kernel.invokeFunction('convertToInteractive',\n",
              "                                                     [key], {});\n",
              "          if (!dataTable) return;\n",
              "\n",
              "          const docLinkHtml = 'Like what you see? Visit the ' +\n",
              "            '<a target=\"_blank\" href=https://colab.research.google.com/notebooks/data_table.ipynb>data table notebook</a>'\n",
              "            + ' to learn more about interactive tables.';\n",
              "          element.innerHTML = '';\n",
              "          dataTable['output_type'] = 'display_data';\n",
              "          await google.colab.output.renderOutput(dataTable, element);\n",
              "          const docLink = document.createElement('div');\n",
              "          docLink.innerHTML = docLinkHtml;\n",
              "          element.appendChild(docLink);\n",
              "        }\n",
              "      </script>\n",
              "    </div>\n",
              "  </div>\n",
              "  "
            ]
          },
          "metadata": {},
          "execution_count": 34
        }
      ]
    },
    {
      "cell_type": "code",
      "source": [
        "df_final.to_csv(\"df_final.csv\")"
      ],
      "metadata": {
        "id": "yBWkfRjeeGAw"
      },
      "execution_count": 35,
      "outputs": []
    },
    {
      "cell_type": "markdown",
      "metadata": {
        "id": "bhtjGQcZNHVn"
      },
      "source": [
        "### Models"
      ]
    },
    {
      "cell_type": "code",
      "execution_count": null,
      "metadata": {
        "id": "THGjHu6MNHVn"
      },
      "outputs": [],
      "source": [
        ""
      ]
    },
    {
      "cell_type": "markdown",
      "metadata": {
        "id": "ySBoFMCgNHVn"
      },
      "source": [
        "### Training"
      ]
    },
    {
      "cell_type": "code",
      "execution_count": null,
      "metadata": {
        "id": "KO-dVaAjNHVo"
      },
      "outputs": [],
      "source": [
        ""
      ]
    },
    {
      "cell_type": "markdown",
      "metadata": {
        "id": "ugj7FV9PNHVo"
      },
      "source": [
        "### Testing"
      ]
    },
    {
      "cell_type": "code",
      "execution_count": null,
      "metadata": {
        "id": "tT_Ypc4UNHVo"
      },
      "outputs": [],
      "source": [
        ""
      ]
    }
  ],
  "metadata": {
    "kernelspec": {
      "display_name": "Python 3.8.10 64-bit",
      "language": "python",
      "name": "python3"
    },
    "language_info": {
      "codemirror_mode": {
        "name": "ipython",
        "version": 3
      },
      "file_extension": ".py",
      "mimetype": "text/x-python",
      "name": "python",
      "nbconvert_exporter": "python",
      "pygments_lexer": "ipython3",
      "version": "3.8.10"
    },
    "orig_nbformat": 4,
    "vscode": {
      "interpreter": {
        "hash": "916dbcbb3f70747c44a77c7bcd40155683ae19c65e1c03b4aa3499c5328201f1"
      }
    },
    "colab": {
      "name": "main.ipynb",
      "provenance": []
    }
  },
  "nbformat": 4,
  "nbformat_minor": 0
}